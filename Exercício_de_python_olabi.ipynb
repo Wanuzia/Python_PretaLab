{
  "nbformat": 4,
  "nbformat_minor": 0,
  "metadata": {
    "colab": {
      "provenance": [],
      "include_colab_link": true
    },
    "kernelspec": {
      "name": "python3",
      "display_name": "Python 3"
    },
    "language_info": {
      "name": "python"
    }
  },
  "cells": [
    {
      "cell_type": "markdown",
      "metadata": {
        "id": "view-in-github",
        "colab_type": "text"
      },
      "source": [
        "<a href=\"https://colab.research.google.com/github/Wanuzia/Python_PretaLab/blob/exercicios1/Exerc%C3%ADcio_de_python_olabi.ipynb\" target=\"_parent\"><img src=\"https://colab.research.google.com/assets/colab-badge.svg\" alt=\"Open In Colab\"/></a>"
      ]
    },
    {
      "cell_type": "markdown",
      "source": [
        "#Diversidade no Trabalho e Tecnologia"
      ],
      "metadata": {
        "id": "7G_k2AAI-UaP"
      }
    },
    {
      "cell_type": "markdown",
      "source": [
        "Neste exercício, o grupo vai criar um conjunto de módulos e pacotes Python que simula a coleta e o processamento de dados sobre a diversidade em empresas de tecnologia. O objetivo é trabalhar com a criação de pacotes e módulos, e praticar a leitura e escrita de arquivos de texto (CSV, txt, etc.) em Python.\n",
        "\n",
        "Vão usar o que aprenderam e também usar as habilidades que vocês já tem para fazer esse trabalho.\n",
        "Façam grupo de pelo menos 4 pessoas e cada pessoa vai ficar responsável por algumas tarefas:\n",
        "**Tarefa:** Utilizar o GitHub para colaborar no desenvolvimento do pacote. Cada aluna pode criar uma branch, implementar suas funções e enviar pull requests para revisão.\n",
        "**Exemplo:** Criar um repositório colaborativo onde cada aluna pode contribuir com uma parte do pacote e utilizar o controle de versão para acompanhar as mudanças.\n",
        "\n",
        "**Módulo 1: Coleta de Dados**\n",
        "\n",
        "  **Tarefa:** Criar um módulo chamado `coleta_dados.py` que contenha funções para ler arquivos CSV que simulam a coleta de dados sobre diversidade nas empresas. Cada aluna será responsável por trabalhar com um arquivo que contenha dados de diferentes empresa.\n",
        "  \n",
        "  **Exemplo de código:**\n",
        "  \n",
        "```\n",
        "import csv\n",
        "\n",
        "def ler_dados_diversidade(arquivo_csv):\n",
        "    with open(arquivo_csv, mode='r') as file:\n",
        "        reader = csv.reader(file)\n",
        "        dados = [row for row in reader]\n",
        "        return dados\n",
        "```\n",
        "\n",
        "\n",
        "\n"
      ],
      "metadata": {
        "id": "iFa8XX0U-ezy"
      }
    },
    {
      "cell_type": "code",
      "source": [],
      "metadata": {
        "id": "SkRflIPYZafT"
      },
      "execution_count": null,
      "outputs": []
    },
    {
      "cell_type": "markdown",
      "source": [
        "Podem criar CSV no google planilha ou pegar um pronto na internet"
      ],
      "metadata": {
        "id": "QZfPjI0YAZib"
      }
    },
    {
      "cell_type": "markdown",
      "source": [
        "#**Módulo 2 - Processamento de Dados**\n"
      ],
      "metadata": {
        "id": "YoJ7JnFVAlri"
      }
    },
    {
      "cell_type": "markdown",
      "source": [
        "\n",
        " **Tarefa:** Desenvolver um módulo chamado `processamento_dados.py`, onde serão processadas as informações lidas no primeiro módulo. Funções para calcular proporções, médias e categorizações dos dados **(ex.: porcentagem de mulheres na equipe, diversidade racial).**\n",
        "\n",
        "**Exemplo de código:**\n",
        "\n",
        "\n",
        "```\n",
        "def calcular_porcentagem_genero(dados):\n",
        "    total = len(dados)\n",
        "    mulheres = sum(1 for linha in dados if linha[1] == 'Feminino')\n",
        "    return (mulheres / total) * 100\n",
        "\n",
        "```\n",
        "\n"
      ],
      "metadata": {
        "id": "gwCaE7jtA3rg"
      }
    },
    {
      "cell_type": "markdown",
      "source": [
        "#**Módulo 3: Manuseio e Escrita de Arquivos**"
      ],
      "metadata": {
        "id": "XjqzRNpyCVtt"
      }
    },
    {
      "cell_type": "markdown",
      "source": [
        "**Tarefa:** Criar um módulo `escrita_dados.py` que gera relatórios com os resultados das análises de diversidade, gravando essas informações em um arquivo de texto ou CSV.\n",
        "\n",
        "**Exemplo de código:**\n",
        "\n",
        "\n",
        "```\n",
        "def salvar_relatorio(caminho_arquivo, dados):\n",
        "    with open(caminho_arquivo, 'w') as file:\n",
        "        file.write(f\"Relatório de Diversidade:\\n{dados}\")\n",
        "\n",
        "```\n",
        "\n"
      ],
      "metadata": {
        "id": "daygfjD7CdJb"
      }
    },
    {
      "cell_type": "markdown",
      "source": [
        "# Criação de Pacotes e Modularização\n",
        "\n",
        "**Tarefa:** Organizar o código criado em um pacote Python. O pacote deve conter os **módulos coleta_dados**, **processamento_dados** e **escrita_dados**. As alunas devem aprender como importar módulos e como organizar o código de forma limpa e reutilizável.\n",
        "\n",
        "**Exemplo de importação:**\n",
        "\n",
        "\n",
        "```\n",
        "from diversidade_empresa.coleta_dados import ler_dados_diversidade\n",
        "from diversidade_empresa.processamento_dados import calcular_porcentagem_genero\n",
        "from diversidade_empresa.escrita_dados import salvar_relatorio\n",
        "\n",
        "```\n",
        "\n"
      ],
      "metadata": {
        "id": "Wj4MLc_GDBZq"
      }
    },
    {
      "cell_type": "markdown",
      "source": [
        "#Outros Exemplos\n"
      ],
      "metadata": {
        "id": "oCQ6TzfEtKN5"
      }
    },
    {
      "cell_type": "markdown",
      "source": [
        "Você pode usar bibliotecas padrão do Python, como csv, json e collections, para processar dados básicos.\n",
        "Processar Dados CSV\n",
        "\n",
        "python\n",
        "\n",
        "import csv\n",
        "\n",
        "\n",
        "```\n",
        "Ler dados de um arquivo CSV\n",
        "with open('dados.csv', 'r') as arquivo:\n",
        "    leitor = csv.reader(arquivo)\n",
        "    for linha in leitor:\n",
        "        print(linha)\n",
        "```\n",
        "\n",
        "\n",
        "\n",
        "```\n",
        "Escrever dados em um arquivo CSV\n",
        "with open('dados_saida.csv', 'w', newline='') as arquivo:\n",
        "    escritor = csv.writer(arquivo)\n",
        "    escritor.writerow(['Nome', 'Idade'])\n",
        "    escritor.writerow(['João', 30])\n",
        "    escritor.writerow(['Maria', 25])\n",
        "```\n",
        "\n"
      ],
      "metadata": {
        "id": "haoN0Xe-tOcC"
      }
    },
    {
      "cell_type": "markdown",
      "source": [
        "Manipular arquivos em Python pode envolver diversas operações além da leitura e escrita básica. Aqui estão alguns exemplos de como você pode manipular arquivos de diferentes formas:\n",
        "1. Verificar a Existência de um Arquivo\n",
        "\n",
        "Antes de manipular um arquivo, pode ser útil verificar se ele existe.\n",
        "\n",
        "python\n",
        "\n",
        "import os\n",
        "\n",
        "\n",
        "```\n",
        "# Verificar se um arquivo existe\n",
        "arquivo_existe = os.path.isfile('caminho/para/seu_arquivo.txt')\n",
        "print(f'Arquivo existe: {arquivo_existe}')\n",
        "```\n",
        "\n",
        "2. Renomear um Arquivo\n",
        "\n",
        "Você pode renomear arquivos usando a função os.rename.\n",
        "\n",
        "python\n",
        "\n",
        "import os\n",
        "\n",
        "\n",
        "```\n",
        "# Renomear um arquivo\n",
        "os.rename('caminho/para/antigo_nome.txt', 'caminho/para/novo_nome.txt')\n",
        "```\n",
        "\n",
        "3. Mover um Arquivo\n",
        "\n",
        "Para mover um arquivo para um diretório diferente, você também pode usar a função os.rename.\n",
        "\n",
        "python\n",
        "\n",
        "import os\n",
        "\n",
        "\n",
        "```\n",
        "# Mover um arquivo para um novo diretório\n",
        "os.rename('caminho/para/arquivo.txt', 'novo/diretorio/arquivo.txt')\n",
        "```\n",
        "\n",
        "4. Excluir um Arquivo\n",
        "\n",
        "Para excluir um arquivo, você pode usar os.remove.\n",
        "\n",
        "python\n",
        "\n",
        "import os\n",
        "\n",
        "\n",
        "```\n",
        "# Excluir um arquivo\n",
        "os.remove('caminho/para/seu_arquivo.txt')\n",
        "```\n",
        "\n",
        "\n",
        "5. Criar Diretórios\n",
        "\n",
        "Se você precisar criar um novo diretório, pode usar os.makedirs.\n",
        "\n",
        "python\n",
        "\n",
        "import os\n",
        "\n",
        "\n",
        "```\n",
        "# Criar um novo diretório\n",
        "os.makedirs('caminho/para/novo_diretorio', exist_ok=True)\n",
        "```\n",
        "\n",
        "6. Listar Arquivos em um Diretório\n",
        "\n",
        "Para listar todos os arquivos em um diretório, você pode usar os.listdir.\n",
        "\n",
        "python\n",
        "\n",
        "import os\n",
        "```\n",
        "# Listar arquivos em um diretório\n",
        "arquivos = os.listdir('caminho/para/diretorio')\n",
        "print(arquivos)\n",
        "```\n",
        "7. Manipular Arquivos com Context Managers\n",
        "\n",
        "Usar context managers (with statement) é uma prática recomendada para garantir que os arquivos sejam fechados corretamente após a manipulação.\n",
        "\n",
        "python\n",
        "```\n",
        "# Abrir um arquivo e garantir que seja fechado corretamente\n",
        "with open('caminho/para/seu_arquivo.txt', 'r') as arquivo:\n",
        "    conteudo = arquivo.read()\n",
        "    print(conteudo)\n",
        "```\n",
        "8. Manipular Arquivos Binários\n",
        "\n",
        "Para ler e escrever arquivos binários, use os modos 'rb' (leitura binária) e 'wb' (escrita binária).\n",
        "\n",
        "python\n",
        "```\n",
        "# Ler um arquivo binário\n",
        "with open('caminho/para/seu_arquivo.bin', 'rb') as arquivo:\n",
        "    conteudo_binario = arquivo.read()\n",
        "    print(conteudo_binario)\n",
        "```\n",
        "```\n",
        "# Escrever em um arquivo binário\n",
        "with open('caminho/para/seu_arquivo.bin', 'wb') as arquivo:\n",
        "    arquivo.write(b'Conteúdo binário')\n",
        "```\n",
        "9. Manipular Arquivos CSV\n",
        "\n",
        "Se estiver trabalhando com arquivos CSV, pode usar o módulo csv.\n",
        "\n",
        "python\n",
        "\n",
        "import csv\n",
        "```\n",
        "# Ler um arquivo CSV\n",
        "with open('caminho/para/seu_arquivo.csv', 'r') as arquivo:\n",
        "    leitor = csv.reader(arquivo)\n",
        "    for linha in leitor:\n",
        "        print(linha)\n",
        "```\n",
        "```\n",
        "# Escrever em um arquivo CSV\n",
        "with open('caminho/para/seu_arquivo.csv', 'w', newline='') as arquivo:\n",
        "    escritor = csv.writer(arquivo)\n",
        "    escritor.writerow(['Coluna1', 'Coluna2'])\n",
        "    escritor.writerow(['Valor1', 'Valor2'])\n",
        "```"
      ],
      "metadata": {
        "id": "N9RfDQsRtm9S"
      }
    },
    {
      "cell_type": "markdown",
      "source": [
        "Para acessar e manipular arquivos em Python, você pode usar as funções integradas da biblioteca padrão. Aqui estão algumas operações básicas que você pode realizar:\n",
        "1. Abrir e Ler um Arquivo\n",
        "\n",
        "python\n",
        "```\n",
        "# Abrindo um arquivo para leitura\n",
        "with open('caminho/para/seu_arquivo.txt', 'r') as arquivo:\n",
        "    conteudo = arquivo.read()  # Lê todo o conteúdo do arquivo\n",
        "    print(conteudo)  # Exibe o conteúdo no console\n",
        "```\n",
        "2. Abrir e Escrever em um Arquivo\n",
        "\n",
        "python\n",
        "```\n",
        "# Abrindo um arquivo para escrita (ou criando-o se não existir)\n",
        "with open('caminho/para/seu_arquivo.txt', 'w') as arquivo:\n",
        "    arquivo.write('Este é um exemplo de escrita no arquivo.\\n')\n",
        "    arquivo.write('Segunda linha de texto.')\n",
        "```\n",
        "3. Adicionar Texto a um Arquivo Existente\n",
        "\n",
        "python\n",
        "```\n",
        "# Abrindo um arquivo para adicionar texto ao final (append)\n",
        "with open('caminho/para/seu_arquivo.txt', 'a') as arquivo:\n",
        "    arquivo.write('\\nLinha adicional de texto.')\n",
        "```\n",
        "4. Ler um Arquivo Linha por Linha\n",
        "\n",
        "python\n",
        "```\n",
        "# Abrindo um arquivo e lendo linha por linha\n",
        "with open('caminho/para/seu_arquivo.txt', 'r') as arquivo:\n",
        "    for linha in arquivo:\n",
        "        print(linha.strip())  # Exibe cada linha sem a quebra de linha no final\n",
        "```\n",
        "5. Ler um Arquivo como uma Lista de Linhas\n",
        "\n",
        "python\n",
        "```\n",
        "# Abrindo um arquivo e lendo todas as linhas como uma lista\n",
        "with open('caminho/para/seu_arquivo.txt', 'r') as arquivo:\n",
        "    linhas = arquivo.readlines()\n",
        "    print(linhas)  # Exibe a lista de linhas\n",
        "```\n",
        "6. Manipular Arquivos Binários\n",
        "\n",
        "python\n",
        "```\n",
        "# Abrindo um arquivo binário para leitura\n",
        "with open('caminho/para/seu_arquivo.bin', 'rb') as arquivo:\n",
        "    conteudo_binario = arquivo.read()\n",
        "    print(conteudo_binario)\n",
        "```\n",
        "7. Exclusão de Arquivo\n",
        "\n",
        "Se precisar excluir um arquivo, pode usar o módulo os:\n",
        "\n",
        "python\n",
        "\n",
        "import os\n",
        "```\n",
        "# Remover um arquivo\n",
        "os.remove('caminho/para/seu_arquivo.txt')\n",
        "```"
      ],
      "metadata": {
        "id": "zaXPGQp-u7nG"
      }
    },
    {
      "cell_type": "markdown",
      "source": [
        "Exemplo Completo de Processamento de CSV\n",
        "1. Ler um Arquivo CSV\n",
        "\n",
        "Aqui está um exemplo de como ler um arquivo CSV:\n",
        "\n",
        "\n",
        "```\n",
        "import csv\n",
        "\n",
        "# Abrir o arquivo CSV\n",
        "with open('dados.csv', newline='', encoding='utf-8') as arquivo_csv:\n",
        "    leitor_csv = csv.reader(arquivo_csv)\n",
        "    \n",
        "    # Ler os cabeçalhos (primeira linha)\n",
        "    cabecalhos = next(leitor_csv)\n",
        "    print(f\"Cabeçalhos: {cabecalhos}\")\n",
        "    \n",
        "    # Ler as linhas seguintes (os dados)\n",
        "    for linha in leitor_csv:\n",
        "        print(linha)\n",
        "\n",
        "```\n",
        "\n"
      ],
      "metadata": {
        "id": "BhaJPhSovzN2"
      }
    },
    {
      "cell_type": "markdown",
      "source": [
        "Processar os Dados\n",
        "\n",
        "Agora, vamos processar os dados. Suponha que você tenha um arquivo CSV com colunas como \"Nome\", \"Idade\" e \"Cidade\", e deseja filtrar pessoas com idade maior que 30 anos.\n",
        "\n",
        "\n",
        "\n",
        "```\n",
        "import csv\n",
        "\n",
        "# Abrir e processar o arquivo CSV\n",
        "with open('dados.csv', newline='', encoding='utf-8') as arquivo_csv:\n",
        "    leitor_csv = csv.reader(arquivo_csv)\n",
        "    \n",
        "    # Ler os cabeçalhos (primeira linha)\n",
        "    cabecalhos = next(leitor_csv)\n",
        "    \n",
        "    # Criar uma lista para armazenar o resultado filtrado\n",
        "    dados_filtrados = []\n",
        "    \n",
        "    # Processar linha por linha\n",
        "    for linha in leitor_csv:\n",
        "        nome, idade, cidade = linha[0], int(linha[1]), linha[2]  # Converter a idade para int\n",
        "        \n",
        "        # Filtrar pessoas com idade maior que 30\n",
        "        if idade > 30:\n",
        "            dados_filtrados.append(linha)\n",
        "\n",
        "# Exibir os resultados filtrados\n",
        "print(\"Dados filtrados (idade > 30):\")\n",
        "for dado in dados_filtrados:\n",
        "    print(dado)\n",
        "\n",
        "```\n",
        "\n"
      ],
      "metadata": {
        "id": "DSAehRWxwVoE"
      }
    },
    {
      "cell_type": "markdown",
      "source": [
        "Escrever os Resultados em um Novo Arquivo CSV\n",
        "\n",
        "Após filtrar ou processar os dados, você pode querer salvar o resultado em um novo arquivo CSV.\n",
        "\n",
        "\n",
        "\n",
        "```\n",
        "import csv\n",
        "\n",
        "# Escrever os dados filtrados em um novo arquivo CSV\n",
        "with open('dados_filtrados.csv', 'w', newline='', encoding='utf-8') as arquivo_saida:\n",
        "    escritor_csv = csv.writer(arquivo_saida)\n",
        "    \n",
        "    # Escrever os cabeçalhos\n",
        "    escritor_csv.writerow(cabecalhos)\n",
        "    \n",
        "    # Escrever os dados filtrados\n",
        "    escritor_csv.writerows(dados_filtrados)\n",
        "\n",
        "print(\"Dados filtrados foram salvos em 'dados_filtrados.csv'.\")\n",
        "\n",
        "```\n",
        "\n"
      ],
      "metadata": {
        "id": "540sdIPFwhC-"
      }
    },
    {
      "cell_type": "markdown",
      "source": [
        "Exemplo de Agregação: Calcular Média de Idade\n",
        "\n",
        "Suponha que você queira calcular a média das idades de todas as pessoas no arquivo CSV:\n",
        "\n",
        "\n",
        "\n",
        "```\n",
        "import csv\n",
        "\n",
        "# Variáveis para armazenar a soma e o número de pessoas\n",
        "soma_idades = 0\n",
        "quantidade_pessoas = 0\n",
        "\n",
        "# Abrir e processar o arquivo CSV\n",
        "with open('dados.csv', newline='', encoding='utf-8') as arquivo_csv:\n",
        "    leitor_csv = csv.reader(arquivo_csv)\n",
        "    \n",
        "    # Pular os cabeçalhos\n",
        "    next(leitor_csv)\n",
        "    \n",
        "    # Somar as idades e contar o número de pessoas\n",
        "    for linha in leitor_csv:\n",
        "        idade = int(linha[1])\n",
        "        soma_idades += idade\n",
        "        quantidade_pessoas += 1\n",
        "\n",
        "# Calcular a média\n",
        "media_idades = soma_idades / quantidade_pessoas if quantidade_pessoas > 0 else 0\n",
        "print(f\"Média das idades: {media_idades}\")\n",
        "\n",
        "```\n",
        "\n"
      ],
      "metadata": {
        "id": "6PuazEwVwsPr"
      }
    },
    {
      "cell_type": "code",
      "source": [],
      "metadata": {
        "id": "-fKJ-2Z8vyqe"
      },
      "execution_count": null,
      "outputs": []
    },
    {
      "cell_type": "code",
      "source": [],
      "metadata": {
        "id": "LKdr07xItN7F"
      },
      "execution_count": null,
      "outputs": []
    }
  ]
}