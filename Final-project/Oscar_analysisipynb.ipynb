{
  "nbformat": 4,
  "nbformat_minor": 0,
  "metadata": {
    "colab": {
      "provenance": [],
      "include_colab_link": true
    },
    "kernelspec": {
      "name": "python3",
      "display_name": "Python 3"
    },
    "language_info": {
      "name": "python"
    }
  },
  "cells": [
    {
      "cell_type": "markdown",
      "metadata": {
        "id": "view-in-github",
        "colab_type": "text"
      },
      "source": [
        "<a href=\"https://colab.research.google.com/github/Wanuzia/Python_PretaLab/blob/final-project/Oscar_analysisipynb.ipynb\" target=\"_parent\"><img src=\"https://colab.research.google.com/assets/colab-badge.svg\" alt=\"Open In Colab\"/></a>"
      ]
    },
    {
      "cell_type": "markdown",
      "source": [
        "# Projeto final paa o curso de Dados com Python da PretaLab\n"
      ],
      "metadata": {
        "id": "v_iAEKRasE7w"
      }
    },
    {
      "cell_type": "markdown",
      "source": [
        "Representatividade negra entre os ganhadores do prêmio Oscar"
      ],
      "metadata": {
        "id": "GsWGKiOcsivn"
      }
    },
    {
      "cell_type": "markdown",
      "source": [
        "O projeto tem como objetivo analisar a representativa negra na premiação do Oscar de 1927 a 2014.\n",
        "\n",
        "A discussão a respeito da representatividade negra nos diferentes espaços é bastante atual e tem sido analisada a partir de diferentes dados da realidade social.\n",
        "\n"
      ],
      "metadata": {
        "id": "iD5kD58GsOWR"
      }
    },
    {
      "cell_type": "markdown",
      "source": [
        "A Importância da Representatividade Negra no Cinema Internacional\n",
        "A representatividade negra no cinema internacional é um tema crucial que reflete as desigualdades e a luta por justiça social em nossa sociedade. A ausência ou a representação estereotipada de pessoas negras na mídia perpetua preconceitos e limita a compreensão da diversidade humana. No contexto dos estudos culturais, teorias como a de Stuart Hall sobre representação e identidade, bem como o conceito de \"Outro\" de Edward Said, fornecem um quadro para entender a importância da representatividade.\n",
        "\n",
        "Representatividade e Construção Identitária:\n",
        "\n",
        "Stuart Hall argumenta que a identidade é construída por meio da representação, ou seja, como somos retratados na mídia e na cultura molda nossa autoimagem e como os outros nos percebem. A falta de representação positiva de pessoas negras no cinema pode levar à internalização de estereótipos negativos e à marginalização social.\n",
        "\n",
        "O Conceito de \"Outro\":\n",
        "\n",
        "Edward Said, em sua obra \"Orientalismo\", explora como o Ocidente historicamente construiu uma imagem estereotipada do Oriente como \"o Outro\" - exótico, inferior e diferente. Esse conceito pode ser aplicado à representação de grupos minoritários no cinema, incluindo pessoas negras. A representação negativa reforça a ideia de que esses grupos são \"diferentes\" e \"inferiores\" à cultura dominante.\n",
        "\n",
        "A Importância da Representatividade:\n",
        "\n",
        "A representatividade negra no cinema é crucial para:\n",
        "\n",
        "Combater estereótipos: Ao mostrar a diversidade de experiências e histórias de pessoas negras, o cinema pode desafiar estereótipos prejudiciais e promover uma compreensão mais realista e complexa da comunidade negra.\n",
        "Promover a inclusão: A representatividade cria um senso de pertencimento e empoderamento para pessoas negras, mostrando que suas histórias e perspectivas são importantes e merecem ser contadas.\n",
        "Construir uma sociedade mais justa: Ao desafiar as estruturas de poder que perpetuam a desigualdade racial, a representatividade contribui para a construção de uma sociedade mais justa e igualitária.\n",
        "Portanto, a representatividade negra no cinema internacional é essencial para a construção de uma sociedade mais inclusiva e justa. É fundamental que a indústria cinematográfica se esforce para retratar a diversidade da comunidade negra de forma autêntica e complexa, promovendo a compreensão e o respeito entre as culturas.\n",
        "\n",
        "Teorias dos Estudos Culturais:\n",
        "\n",
        "Stuart Hall: Teoria da representação e identidade.\n",
        "Edward Said: O conceito de \"Outro\".\n",
        "Espero que este texto forneça uma base para a sua pesquisa sobre a representatividade negra no cinema internacional e sua importância para a construção identitária."
      ],
      "metadata": {
        "id": "dvX6HXn_tVkS"
      }
    },
    {
      "cell_type": "markdown",
      "source": [
        "Representatividade Negra no Oscar: Reconhecimento, Impacto e Construção Identitária\n",
        "A premiação do Oscar, como principal evento do cinema internacional, possui um papel crucial na promoção da representatividade negra. Analisar os ganhadores negros do Oscar e os papéis que representaram permite compreender a evolução da inclusão e seu impacto na construção identitária da comunidade negra.\n",
        "\n",
        "Reconhecimento e representatividade:\n",
        "\n",
        "A indicação e premiação de artistas negros no Oscar é um passo importante para reconhecer o talento e a contribuição da comunidade negra para a indústria cinematográfica. A visibilidade proporcionada pelo Oscar amplia o alcance das histórias negras, promovendo a identificação e inspirando novas gerações de artistas e cineastas.\n",
        "\n",
        "Impacto na construção identitária:\n",
        "\n",
        "A representatividade negra no Oscar transcende o reconhecimento individual, impactando diretamente a construção identitária da comunidade negra. Ao verem atores, atrizes e cineastas negros sendo celebrados em um evento de grande prestígio, pessoas negras sentem-se representadas e empoderadas. Essa representatividade positiva contribui para a autoestima, o orgulho racial e a quebra de estereótipos.\n",
        "\n",
        "Papéis e representatividade:\n",
        "\n",
        "Os papéis interpretados por atores negros premiados no Oscar também são importantes para a representatividade. É fundamental que esses papéis fujam de estereótipos e representem a diversidade de experiências e histórias da comunidade negra. Personagens complexos, multidimensionais e inspiradores ajudam a construir uma imagem mais autêntica e positiva da negritude no cinema.\n",
        "\n",
        "O Oscar como agente de mudança:\n",
        "\n",
        "O Oscar, como um evento de grande influência, tem o potencial de impulsionar a mudança na indústria cinematográfica. A premiação de artistas negros e a valorização de histórias negras podem incentivar a produção de filmes mais diversos e inclusivos. O reconhecimento da representatividade negra no Oscar contribui para a construção de uma sociedade mais justa e igualitária, onde todos se sintam representados e valorizados.\n",
        "\n",
        "Relação com o projeto:\n",
        "\n",
        "Analisar a representatividade negra entre os ganhadores do Oscar de 1927 a 2014, como proposto no projeto, permite traçar um panorama histórico da inclusão (ou exclusão) de negros na premiação. Essa análise pode revelar padrões, tendências e desafios na busca por uma representatividade mais justa e equitativa no cinema. Ao investigar os papéis interpretados por atores negros premiados, é possível identificar como a representação da negritude evoluiu ao longo do tempo.\n",
        "\n",
        "Em resumo, o reconhecimento da representatividade negra no Oscar é fundamental para a construção identitária da comunidade negra e para a promoção da justiça social. Ao celebrar o talento e a diversidade de artistas negros, o Oscar contribui para a construção de uma indústria cinematográfica mais inclusiva e representativa da sociedade como um todo.\n",
        "\n"
      ],
      "metadata": {
        "id": "cX7T_yDWu288"
      }
    },
    {
      "cell_type": "markdown",
      "source": [
        "# Metodologia\n"
      ],
      "metadata": {
        "id": "Um-GobTau-HA"
      }
    },
    {
      "cell_type": "markdown",
      "source": [
        "Os dados foram consultados na plataforma BigQuery utilizando SQL para filtrar os dados entre 1927 e 2014, de tabela disponível no basedosdados.org.\n",
        "\n"
      ],
      "metadata": {
        "id": "8uIZmCiNvCaq"
      }
    },
    {
      "cell_type": "markdown",
      "source": [
        "Tratamento de Dados: Descrever os processos de limpeza e transformação aplicados aos dados, como remoção de duplicatas, preenchimento de valores ausentes e criação de variáveis calculadas."
      ],
      "metadata": {
        "id": "9n-uRzcNvYO5"
      }
    },
    {
      "cell_type": "markdown",
      "source": [],
      "metadata": {
        "id": "DwfFepXmxNQ7"
      }
    },
    {
      "cell_type": "code",
      "source": [
        "#Abrir a planilha\n",
        "import pandas as pd\n",
        "\n",
        "\n",
        "dados = pd.read_csv('/content/world_ampas_oscar_winner_demographics.csv')\n",
        "\n"
      ],
      "metadata": {
        "id": "LzulcEc0zfOH"
      },
      "execution_count": null,
      "outputs": []
    },
    {
      "cell_type": "code",
      "source": [
        "# Mostrar as primeiras linhas do DataFrame\n",
        "dados.head()"
      ],
      "metadata": {
        "colab": {
          "base_uri": "https://localhost:8080/",
          "height": 382
        },
        "id": "YQ_1JA4n145j",
        "outputId": "1188bdc0-743f-4bc0-c95a-d89d159bbcf7"
      },
      "execution_count": null,
      "outputs": [
        {
          "output_type": "execute_result",
          "data": {
            "text/plain": [
              "               name  birth_year  birth_date                birthplace  \\\n",
              "0    Marie Dressler        1868  1868-11-02  Cobourg, Ontario, Canada   \n",
              "1     George Arliss        1868  1868-04-10           London, England   \n",
              "2      Edmund Gwenn        1875  1875-09-26  Vale of Glamorgan, Wales   \n",
              "3    Charles Coburn        1877  1877-06-17              Savannah, Ga   \n",
              "4  Lionel Barrymore        1878  1878-04-28          Philadelphia, Pa   \n",
              "\n",
              "  race_ethnicity        religion sexual_orientation  year_edition  \\\n",
              "0          White             NaN           Straight          1931   \n",
              "1          White             NaN           Straight          1930   \n",
              "2          White             NaN                 Na          1948   \n",
              "3          White             NaN           Straight          1944   \n",
              "4          White  Roman Catholic           Straight          1931   \n",
              "\n",
              "                category                   movie  \n",
              "0           Best Actress            Min and Bill  \n",
              "1             Best Actor                Desraeli  \n",
              "2  Best Supporting Actor  Miracle on 34th Street  \n",
              "3  Best Supporting Actor    The More the Merrier  \n",
              "4             Best Actor             A Free Soul  "
            ],
            "text/html": [
              "\n",
              "  <div id=\"df-cc14400f-f0ea-4067-bb52-553d0b1faafc\" class=\"colab-df-container\">\n",
              "    <div>\n",
              "<style scoped>\n",
              "    .dataframe tbody tr th:only-of-type {\n",
              "        vertical-align: middle;\n",
              "    }\n",
              "\n",
              "    .dataframe tbody tr th {\n",
              "        vertical-align: top;\n",
              "    }\n",
              "\n",
              "    .dataframe thead th {\n",
              "        text-align: right;\n",
              "    }\n",
              "</style>\n",
              "<table border=\"1\" class=\"dataframe\">\n",
              "  <thead>\n",
              "    <tr style=\"text-align: right;\">\n",
              "      <th></th>\n",
              "      <th>name</th>\n",
              "      <th>birth_year</th>\n",
              "      <th>birth_date</th>\n",
              "      <th>birthplace</th>\n",
              "      <th>race_ethnicity</th>\n",
              "      <th>religion</th>\n",
              "      <th>sexual_orientation</th>\n",
              "      <th>year_edition</th>\n",
              "      <th>category</th>\n",
              "      <th>movie</th>\n",
              "    </tr>\n",
              "  </thead>\n",
              "  <tbody>\n",
              "    <tr>\n",
              "      <th>0</th>\n",
              "      <td>Marie Dressler</td>\n",
              "      <td>1868</td>\n",
              "      <td>1868-11-02</td>\n",
              "      <td>Cobourg, Ontario, Canada</td>\n",
              "      <td>White</td>\n",
              "      <td>NaN</td>\n",
              "      <td>Straight</td>\n",
              "      <td>1931</td>\n",
              "      <td>Best Actress</td>\n",
              "      <td>Min and Bill</td>\n",
              "    </tr>\n",
              "    <tr>\n",
              "      <th>1</th>\n",
              "      <td>George Arliss</td>\n",
              "      <td>1868</td>\n",
              "      <td>1868-04-10</td>\n",
              "      <td>London, England</td>\n",
              "      <td>White</td>\n",
              "      <td>NaN</td>\n",
              "      <td>Straight</td>\n",
              "      <td>1930</td>\n",
              "      <td>Best Actor</td>\n",
              "      <td>Desraeli</td>\n",
              "    </tr>\n",
              "    <tr>\n",
              "      <th>2</th>\n",
              "      <td>Edmund Gwenn</td>\n",
              "      <td>1875</td>\n",
              "      <td>1875-09-26</td>\n",
              "      <td>Vale of Glamorgan, Wales</td>\n",
              "      <td>White</td>\n",
              "      <td>NaN</td>\n",
              "      <td>Na</td>\n",
              "      <td>1948</td>\n",
              "      <td>Best Supporting Actor</td>\n",
              "      <td>Miracle on 34th Street</td>\n",
              "    </tr>\n",
              "    <tr>\n",
              "      <th>3</th>\n",
              "      <td>Charles Coburn</td>\n",
              "      <td>1877</td>\n",
              "      <td>1877-06-17</td>\n",
              "      <td>Savannah, Ga</td>\n",
              "      <td>White</td>\n",
              "      <td>NaN</td>\n",
              "      <td>Straight</td>\n",
              "      <td>1944</td>\n",
              "      <td>Best Supporting Actor</td>\n",
              "      <td>The More the Merrier</td>\n",
              "    </tr>\n",
              "    <tr>\n",
              "      <th>4</th>\n",
              "      <td>Lionel Barrymore</td>\n",
              "      <td>1878</td>\n",
              "      <td>1878-04-28</td>\n",
              "      <td>Philadelphia, Pa</td>\n",
              "      <td>White</td>\n",
              "      <td>Roman Catholic</td>\n",
              "      <td>Straight</td>\n",
              "      <td>1931</td>\n",
              "      <td>Best Actor</td>\n",
              "      <td>A Free Soul</td>\n",
              "    </tr>\n",
              "  </tbody>\n",
              "</table>\n",
              "</div>\n",
              "    <div class=\"colab-df-buttons\">\n",
              "\n",
              "  <div class=\"colab-df-container\">\n",
              "    <button class=\"colab-df-convert\" onclick=\"convertToInteractive('df-cc14400f-f0ea-4067-bb52-553d0b1faafc')\"\n",
              "            title=\"Convert this dataframe to an interactive table.\"\n",
              "            style=\"display:none;\">\n",
              "\n",
              "  <svg xmlns=\"http://www.w3.org/2000/svg\" height=\"24px\" viewBox=\"0 -960 960 960\">\n",
              "    <path d=\"M120-120v-720h720v720H120Zm60-500h600v-160H180v160Zm220 220h160v-160H400v160Zm0 220h160v-160H400v160ZM180-400h160v-160H180v160Zm440 0h160v-160H620v160ZM180-180h160v-160H180v160Zm440 0h160v-160H620v160Z\"/>\n",
              "  </svg>\n",
              "    </button>\n",
              "\n",
              "  <style>\n",
              "    .colab-df-container {\n",
              "      display:flex;\n",
              "      gap: 12px;\n",
              "    }\n",
              "\n",
              "    .colab-df-convert {\n",
              "      background-color: #E8F0FE;\n",
              "      border: none;\n",
              "      border-radius: 50%;\n",
              "      cursor: pointer;\n",
              "      display: none;\n",
              "      fill: #1967D2;\n",
              "      height: 32px;\n",
              "      padding: 0 0 0 0;\n",
              "      width: 32px;\n",
              "    }\n",
              "\n",
              "    .colab-df-convert:hover {\n",
              "      background-color: #E2EBFA;\n",
              "      box-shadow: 0px 1px 2px rgba(60, 64, 67, 0.3), 0px 1px 3px 1px rgba(60, 64, 67, 0.15);\n",
              "      fill: #174EA6;\n",
              "    }\n",
              "\n",
              "    .colab-df-buttons div {\n",
              "      margin-bottom: 4px;\n",
              "    }\n",
              "\n",
              "    [theme=dark] .colab-df-convert {\n",
              "      background-color: #3B4455;\n",
              "      fill: #D2E3FC;\n",
              "    }\n",
              "\n",
              "    [theme=dark] .colab-df-convert:hover {\n",
              "      background-color: #434B5C;\n",
              "      box-shadow: 0px 1px 3px 1px rgba(0, 0, 0, 0.15);\n",
              "      filter: drop-shadow(0px 1px 2px rgba(0, 0, 0, 0.3));\n",
              "      fill: #FFFFFF;\n",
              "    }\n",
              "  </style>\n",
              "\n",
              "    <script>\n",
              "      const buttonEl =\n",
              "        document.querySelector('#df-cc14400f-f0ea-4067-bb52-553d0b1faafc button.colab-df-convert');\n",
              "      buttonEl.style.display =\n",
              "        google.colab.kernel.accessAllowed ? 'block' : 'none';\n",
              "\n",
              "      async function convertToInteractive(key) {\n",
              "        const element = document.querySelector('#df-cc14400f-f0ea-4067-bb52-553d0b1faafc');\n",
              "        const dataTable =\n",
              "          await google.colab.kernel.invokeFunction('convertToInteractive',\n",
              "                                                    [key], {});\n",
              "        if (!dataTable) return;\n",
              "\n",
              "        const docLinkHtml = 'Like what you see? Visit the ' +\n",
              "          '<a target=\"_blank\" href=https://colab.research.google.com/notebooks/data_table.ipynb>data table notebook</a>'\n",
              "          + ' to learn more about interactive tables.';\n",
              "        element.innerHTML = '';\n",
              "        dataTable['output_type'] = 'display_data';\n",
              "        await google.colab.output.renderOutput(dataTable, element);\n",
              "        const docLink = document.createElement('div');\n",
              "        docLink.innerHTML = docLinkHtml;\n",
              "        element.appendChild(docLink);\n",
              "      }\n",
              "    </script>\n",
              "  </div>\n",
              "\n",
              "\n",
              "<div id=\"df-7fb00bc3-4dca-4249-8184-5ea2a4c8fe81\">\n",
              "  <button class=\"colab-df-quickchart\" onclick=\"quickchart('df-7fb00bc3-4dca-4249-8184-5ea2a4c8fe81')\"\n",
              "            title=\"Suggest charts\"\n",
              "            style=\"display:none;\">\n",
              "\n",
              "<svg xmlns=\"http://www.w3.org/2000/svg\" height=\"24px\"viewBox=\"0 0 24 24\"\n",
              "     width=\"24px\">\n",
              "    <g>\n",
              "        <path d=\"M19 3H5c-1.1 0-2 .9-2 2v14c0 1.1.9 2 2 2h14c1.1 0 2-.9 2-2V5c0-1.1-.9-2-2-2zM9 17H7v-7h2v7zm4 0h-2V7h2v10zm4 0h-2v-4h2v4z\"/>\n",
              "    </g>\n",
              "</svg>\n",
              "  </button>\n",
              "\n",
              "<style>\n",
              "  .colab-df-quickchart {\n",
              "      --bg-color: #E8F0FE;\n",
              "      --fill-color: #1967D2;\n",
              "      --hover-bg-color: #E2EBFA;\n",
              "      --hover-fill-color: #174EA6;\n",
              "      --disabled-fill-color: #AAA;\n",
              "      --disabled-bg-color: #DDD;\n",
              "  }\n",
              "\n",
              "  [theme=dark] .colab-df-quickchart {\n",
              "      --bg-color: #3B4455;\n",
              "      --fill-color: #D2E3FC;\n",
              "      --hover-bg-color: #434B5C;\n",
              "      --hover-fill-color: #FFFFFF;\n",
              "      --disabled-bg-color: #3B4455;\n",
              "      --disabled-fill-color: #666;\n",
              "  }\n",
              "\n",
              "  .colab-df-quickchart {\n",
              "    background-color: var(--bg-color);\n",
              "    border: none;\n",
              "    border-radius: 50%;\n",
              "    cursor: pointer;\n",
              "    display: none;\n",
              "    fill: var(--fill-color);\n",
              "    height: 32px;\n",
              "    padding: 0;\n",
              "    width: 32px;\n",
              "  }\n",
              "\n",
              "  .colab-df-quickchart:hover {\n",
              "    background-color: var(--hover-bg-color);\n",
              "    box-shadow: 0 1px 2px rgba(60, 64, 67, 0.3), 0 1px 3px 1px rgba(60, 64, 67, 0.15);\n",
              "    fill: var(--button-hover-fill-color);\n",
              "  }\n",
              "\n",
              "  .colab-df-quickchart-complete:disabled,\n",
              "  .colab-df-quickchart-complete:disabled:hover {\n",
              "    background-color: var(--disabled-bg-color);\n",
              "    fill: var(--disabled-fill-color);\n",
              "    box-shadow: none;\n",
              "  }\n",
              "\n",
              "  .colab-df-spinner {\n",
              "    border: 2px solid var(--fill-color);\n",
              "    border-color: transparent;\n",
              "    border-bottom-color: var(--fill-color);\n",
              "    animation:\n",
              "      spin 1s steps(1) infinite;\n",
              "  }\n",
              "\n",
              "  @keyframes spin {\n",
              "    0% {\n",
              "      border-color: transparent;\n",
              "      border-bottom-color: var(--fill-color);\n",
              "      border-left-color: var(--fill-color);\n",
              "    }\n",
              "    20% {\n",
              "      border-color: transparent;\n",
              "      border-left-color: var(--fill-color);\n",
              "      border-top-color: var(--fill-color);\n",
              "    }\n",
              "    30% {\n",
              "      border-color: transparent;\n",
              "      border-left-color: var(--fill-color);\n",
              "      border-top-color: var(--fill-color);\n",
              "      border-right-color: var(--fill-color);\n",
              "    }\n",
              "    40% {\n",
              "      border-color: transparent;\n",
              "      border-right-color: var(--fill-color);\n",
              "      border-top-color: var(--fill-color);\n",
              "    }\n",
              "    60% {\n",
              "      border-color: transparent;\n",
              "      border-right-color: var(--fill-color);\n",
              "    }\n",
              "    80% {\n",
              "      border-color: transparent;\n",
              "      border-right-color: var(--fill-color);\n",
              "      border-bottom-color: var(--fill-color);\n",
              "    }\n",
              "    90% {\n",
              "      border-color: transparent;\n",
              "      border-bottom-color: var(--fill-color);\n",
              "    }\n",
              "  }\n",
              "</style>\n",
              "\n",
              "  <script>\n",
              "    async function quickchart(key) {\n",
              "      const quickchartButtonEl =\n",
              "        document.querySelector('#' + key + ' button');\n",
              "      quickchartButtonEl.disabled = true;  // To prevent multiple clicks.\n",
              "      quickchartButtonEl.classList.add('colab-df-spinner');\n",
              "      try {\n",
              "        const charts = await google.colab.kernel.invokeFunction(\n",
              "            'suggestCharts', [key], {});\n",
              "      } catch (error) {\n",
              "        console.error('Error during call to suggestCharts:', error);\n",
              "      }\n",
              "      quickchartButtonEl.classList.remove('colab-df-spinner');\n",
              "      quickchartButtonEl.classList.add('colab-df-quickchart-complete');\n",
              "    }\n",
              "    (() => {\n",
              "      let quickchartButtonEl =\n",
              "        document.querySelector('#df-7fb00bc3-4dca-4249-8184-5ea2a4c8fe81 button');\n",
              "      quickchartButtonEl.style.display =\n",
              "        google.colab.kernel.accessAllowed ? 'block' : 'none';\n",
              "    })();\n",
              "  </script>\n",
              "</div>\n",
              "\n",
              "    </div>\n",
              "  </div>\n"
            ],
            "application/vnd.google.colaboratory.intrinsic+json": {
              "type": "dataframe",
              "variable_name": "dados",
              "summary": "{\n  \"name\": \"dados\",\n  \"rows\": 415,\n  \"fields\": [\n    {\n      \"column\": \"name\",\n      \"properties\": {\n        \"dtype\": \"string\",\n        \"num_unique_values\": 348,\n        \"samples\": [\n          \"Jeff Bridges\",\n          \"Mercedes McCambridge\",\n          \"Philip Seymour Hoffman\"\n        ],\n        \"semantic_type\": \"\",\n        \"description\": \"\"\n      }\n    },\n    {\n      \"column\": \"birth_year\",\n      \"properties\": {\n        \"dtype\": \"number\",\n        \"std\": 25,\n        \"min\": 1868,\n        \"max\": 1990,\n        \"num_unique_values\": 104,\n        \"samples\": [\n          1908,\n          1943,\n          1942\n        ],\n        \"semantic_type\": \"\",\n        \"description\": \"\"\n      }\n    },\n    {\n      \"column\": \"birth_date\",\n      \"properties\": {\n        \"dtype\": \"object\",\n        \"num_unique_values\": 345,\n        \"samples\": [\n          \"1934-03-26\",\n          \"1925-06-21\",\n          \"1941-01-14\"\n        ],\n        \"semantic_type\": \"\",\n        \"description\": \"\"\n      }\n    },\n    {\n      \"column\": \"birthplace\",\n      \"properties\": {\n        \"dtype\": \"string\",\n        \"num_unique_values\": 233,\n        \"samples\": [\n          \"Joliet, Il\",\n          \"Katy, Tx\",\n          \"Mexico City, Mexico\"\n        ],\n        \"semantic_type\": \"\",\n        \"description\": \"\"\n      }\n    },\n    {\n      \"column\": \"race_ethnicity\",\n      \"properties\": {\n        \"dtype\": \"category\",\n        \"num_unique_values\": 6,\n        \"samples\": [\n          \"White\",\n          \"Black\",\n          \"Multiracial\"\n        ],\n        \"semantic_type\": \"\",\n        \"description\": \"\"\n      }\n    },\n    {\n      \"column\": \"religion\",\n      \"properties\": {\n        \"dtype\": \"category\",\n        \"num_unique_values\": 21,\n        \"samples\": [\n          \"Roman Catholic\",\n          \"Buddhist\",\n          \"Baptist\"\n        ],\n        \"semantic_type\": \"\",\n        \"description\": \"\"\n      }\n    },\n    {\n      \"column\": \"sexual_orientation\",\n      \"properties\": {\n        \"dtype\": \"category\",\n        \"num_unique_values\": 6,\n        \"samples\": [\n          \"Straight\",\n          \"Na\",\n          \"Lesbian\"\n        ],\n        \"semantic_type\": \"\",\n        \"description\": \"\"\n      }\n    },\n    {\n      \"column\": \"year_edition\",\n      \"properties\": {\n        \"dtype\": \"number\",\n        \"std\": 24,\n        \"min\": 1927,\n        \"max\": 2014,\n        \"num_unique_values\": 87,\n        \"samples\": [\n          2010,\n          1931,\n          1952\n        ],\n        \"semantic_type\": \"\",\n        \"description\": \"\"\n      }\n    },\n    {\n      \"column\": \"category\",\n      \"properties\": {\n        \"dtype\": \"category\",\n        \"num_unique_values\": 5,\n        \"samples\": [\n          \"Best Actor\",\n          \"Best Director\",\n          \"Best Supporting Actor\"\n        ],\n        \"semantic_type\": \"\",\n        \"description\": \"\"\n      }\n    },\n    {\n      \"column\": \"movie\",\n      \"properties\": {\n        \"dtype\": \"string\",\n        \"num_unique_values\": 335,\n        \"samples\": [\n          \"In Old Chicago\",\n          \"They Shoot Horses, Don't They?\",\n          \"Oliver!\"\n        ],\n        \"semantic_type\": \"\",\n        \"description\": \"\"\n      }\n    }\n  ]\n}"
            }
          },
          "metadata": {},
          "execution_count": 4
        }
      ]
    },
    {
      "cell_type": "code",
      "source": [
        "# Contar dos dados, quantos são na coluna race_ethnicity = 'White'\n",
        "dados[dados['race_ethnicity'] == 'White'].count()"
      ],
      "metadata": {
        "colab": {
          "base_uri": "https://localhost:8080/",
          "height": 398
        },
        "id": "SuPeaT6a2DCz",
        "outputId": "77a10507-4d90-45e6-9c7b-dac75fad9de1"
      },
      "execution_count": null,
      "outputs": [
        {
          "output_type": "execute_result",
          "data": {
            "text/plain": [
              "name                  386\n",
              "birth_year            386\n",
              "birth_date            385\n",
              "birthplace            386\n",
              "race_ethnicity        386\n",
              "religion              148\n",
              "sexual_orientation    386\n",
              "year_edition          386\n",
              "category              386\n",
              "movie                 386\n",
              "dtype: int64"
            ],
            "text/html": [
              "<div>\n",
              "<style scoped>\n",
              "    .dataframe tbody tr th:only-of-type {\n",
              "        vertical-align: middle;\n",
              "    }\n",
              "\n",
              "    .dataframe tbody tr th {\n",
              "        vertical-align: top;\n",
              "    }\n",
              "\n",
              "    .dataframe thead th {\n",
              "        text-align: right;\n",
              "    }\n",
              "</style>\n",
              "<table border=\"1\" class=\"dataframe\">\n",
              "  <thead>\n",
              "    <tr style=\"text-align: right;\">\n",
              "      <th></th>\n",
              "      <th>0</th>\n",
              "    </tr>\n",
              "  </thead>\n",
              "  <tbody>\n",
              "    <tr>\n",
              "      <th>name</th>\n",
              "      <td>386</td>\n",
              "    </tr>\n",
              "    <tr>\n",
              "      <th>birth_year</th>\n",
              "      <td>386</td>\n",
              "    </tr>\n",
              "    <tr>\n",
              "      <th>birth_date</th>\n",
              "      <td>385</td>\n",
              "    </tr>\n",
              "    <tr>\n",
              "      <th>birthplace</th>\n",
              "      <td>386</td>\n",
              "    </tr>\n",
              "    <tr>\n",
              "      <th>race_ethnicity</th>\n",
              "      <td>386</td>\n",
              "    </tr>\n",
              "    <tr>\n",
              "      <th>religion</th>\n",
              "      <td>148</td>\n",
              "    </tr>\n",
              "    <tr>\n",
              "      <th>sexual_orientation</th>\n",
              "      <td>386</td>\n",
              "    </tr>\n",
              "    <tr>\n",
              "      <th>year_edition</th>\n",
              "      <td>386</td>\n",
              "    </tr>\n",
              "    <tr>\n",
              "      <th>category</th>\n",
              "      <td>386</td>\n",
              "    </tr>\n",
              "    <tr>\n",
              "      <th>movie</th>\n",
              "      <td>386</td>\n",
              "    </tr>\n",
              "  </tbody>\n",
              "</table>\n",
              "</div><br><label><b>dtype:</b> int64</label>"
            ]
          },
          "metadata": {},
          "execution_count": 5
        }
      ]
    },
    {
      "cell_type": "code",
      "source": [
        "# Contar dos dados quantos são de race_ethnicity != White\n",
        "dados[dados['race_ethnicity'] != 'White'].count()"
      ],
      "metadata": {
        "colab": {
          "base_uri": "https://localhost:8080/",
          "height": 398
        },
        "id": "k6yDqJE82PsO",
        "outputId": "e8906f6d-e4e7-4461-9044-d1f62483fe37"
      },
      "execution_count": null,
      "outputs": [
        {
          "output_type": "execute_result",
          "data": {
            "text/plain": [
              "name                  29\n",
              "birth_year            29\n",
              "birth_date            29\n",
              "birthplace            29\n",
              "race_ethnicity        29\n",
              "religion              11\n",
              "sexual_orientation    29\n",
              "year_edition          29\n",
              "category              29\n",
              "movie                 29\n",
              "dtype: int64"
            ],
            "text/html": [
              "<div>\n",
              "<style scoped>\n",
              "    .dataframe tbody tr th:only-of-type {\n",
              "        vertical-align: middle;\n",
              "    }\n",
              "\n",
              "    .dataframe tbody tr th {\n",
              "        vertical-align: top;\n",
              "    }\n",
              "\n",
              "    .dataframe thead th {\n",
              "        text-align: right;\n",
              "    }\n",
              "</style>\n",
              "<table border=\"1\" class=\"dataframe\">\n",
              "  <thead>\n",
              "    <tr style=\"text-align: right;\">\n",
              "      <th></th>\n",
              "      <th>0</th>\n",
              "    </tr>\n",
              "  </thead>\n",
              "  <tbody>\n",
              "    <tr>\n",
              "      <th>name</th>\n",
              "      <td>29</td>\n",
              "    </tr>\n",
              "    <tr>\n",
              "      <th>birth_year</th>\n",
              "      <td>29</td>\n",
              "    </tr>\n",
              "    <tr>\n",
              "      <th>birth_date</th>\n",
              "      <td>29</td>\n",
              "    </tr>\n",
              "    <tr>\n",
              "      <th>birthplace</th>\n",
              "      <td>29</td>\n",
              "    </tr>\n",
              "    <tr>\n",
              "      <th>race_ethnicity</th>\n",
              "      <td>29</td>\n",
              "    </tr>\n",
              "    <tr>\n",
              "      <th>religion</th>\n",
              "      <td>11</td>\n",
              "    </tr>\n",
              "    <tr>\n",
              "      <th>sexual_orientation</th>\n",
              "      <td>29</td>\n",
              "    </tr>\n",
              "    <tr>\n",
              "      <th>year_edition</th>\n",
              "      <td>29</td>\n",
              "    </tr>\n",
              "    <tr>\n",
              "      <th>category</th>\n",
              "      <td>29</td>\n",
              "    </tr>\n",
              "    <tr>\n",
              "      <th>movie</th>\n",
              "      <td>29</td>\n",
              "    </tr>\n",
              "  </tbody>\n",
              "</table>\n",
              "</div><br><label><b>dtype:</b> int64</label>"
            ]
          },
          "metadata": {},
          "execution_count": 6
        }
      ]
    },
    {
      "cell_type": "code",
      "source": [
        "# Mostrar qual o percentual dos que são White e dos que não são White\n",
        "dados[dados['race_ethnicity'] == 'White'].count() / dados[dados['race_ethnicity'] != 'White'].count()"
      ],
      "metadata": {
        "id": "VsUJwjUD2YK6"
      },
      "execution_count": null,
      "outputs": []
    },
    {
      "cell_type": "code",
      "source": [
        "# Do total da planilha, quantos são race_ethnicity = 'White'?\n",
        "dados['race_ethnicity'].value_counts()\n",
        "\n",
        "# Mostrar em percentual este resultado - colocar em percentual (%)\n",
        "dados['race_ethnicity'].value_counts(normalize=True)\n",
        "\n"
      ],
      "metadata": {
        "colab": {
          "base_uri": "https://localhost:8080/",
          "height": 304
        },
        "collapsed": true,
        "id": "QGV5pIg_2ip4",
        "outputId": "3561873e-8198-4d20-a889-cfaf3ab4fe3f"
      },
      "execution_count": null,
      "outputs": [
        {
          "output_type": "execute_result",
          "data": {
            "text/plain": [
              "race_ethnicity\n",
              "White             0.930120\n",
              "Black             0.033735\n",
              "Hispanic          0.019277\n",
              "Asian             0.009639\n",
              "Multiracial       0.004819\n",
              "Middle Eastern    0.002410\n",
              "Name: proportion, dtype: float64"
            ],
            "text/html": [
              "<div>\n",
              "<style scoped>\n",
              "    .dataframe tbody tr th:only-of-type {\n",
              "        vertical-align: middle;\n",
              "    }\n",
              "\n",
              "    .dataframe tbody tr th {\n",
              "        vertical-align: top;\n",
              "    }\n",
              "\n",
              "    .dataframe thead th {\n",
              "        text-align: right;\n",
              "    }\n",
              "</style>\n",
              "<table border=\"1\" class=\"dataframe\">\n",
              "  <thead>\n",
              "    <tr style=\"text-align: right;\">\n",
              "      <th></th>\n",
              "      <th>proportion</th>\n",
              "    </tr>\n",
              "    <tr>\n",
              "      <th>race_ethnicity</th>\n",
              "      <th></th>\n",
              "    </tr>\n",
              "  </thead>\n",
              "  <tbody>\n",
              "    <tr>\n",
              "      <th>White</th>\n",
              "      <td>0.930120</td>\n",
              "    </tr>\n",
              "    <tr>\n",
              "      <th>Black</th>\n",
              "      <td>0.033735</td>\n",
              "    </tr>\n",
              "    <tr>\n",
              "      <th>Hispanic</th>\n",
              "      <td>0.019277</td>\n",
              "    </tr>\n",
              "    <tr>\n",
              "      <th>Asian</th>\n",
              "      <td>0.009639</td>\n",
              "    </tr>\n",
              "    <tr>\n",
              "      <th>Multiracial</th>\n",
              "      <td>0.004819</td>\n",
              "    </tr>\n",
              "    <tr>\n",
              "      <th>Middle Eastern</th>\n",
              "      <td>0.002410</td>\n",
              "    </tr>\n",
              "  </tbody>\n",
              "</table>\n",
              "</div><br><label><b>dtype:</b> float64</label>"
            ]
          },
          "metadata": {},
          "execution_count": 14
        }
      ]
    },
    {
      "cell_type": "code",
      "source": [
        "# Mostrar em um gráfico, os dados por race_ethnicity x ano do Oscar. Importar libs necessárias para execução\n",
        "import matplotlib.pyplot as plt\n",
        "import seaborn as sns\n",
        "import numpy as np\n",
        "\n",
        "# exibir gráfico dos dados race_ethnicity x year_edition\n",
        "\n",
        "sns.countplot(x='year_edition', hue='race_ethnicity', data=dados)\n",
        "\n",
        "bar_width = 0.20\n",
        "index = np.arange(len('year_edition'))\n",
        "\n",
        "plt.show()\n",
        "\n",
        "\n"
      ],
      "metadata": {
        "colab": {
          "base_uri": "https://localhost:8080/",
          "height": 450
        },
        "id": "ZYpHbfTa4AbX",
        "outputId": "69d7d244-0ba4-40c3-da34-098200b3ef4b"
      },
      "execution_count": null,
      "outputs": [
        {
          "output_type": "display_data",
          "data": {
            "text/plain": [
              "<Figure size 640x480 with 1 Axes>"
            ],
            "image/png": "[encoded data removed]"
          },
          "metadata": {}
        }
      ]
    },
    {
      "cell_type": "code",
      "source": [
        "# Criar variáve que armazena os dados, todas as linhas onde o value Black em race_ethnicity\n",
        "dados_black = dados[dados['race_ethnicity'] == 'Black']"
      ],
      "metadata": {
        "id": "4T7Z2_D13SU-"
      },
      "execution_count": null,
      "outputs": []
    },
    {
      "cell_type": "code",
      "source": [
        "print(dados_black)"
      ],
      "metadata": {
        "colab": {
          "base_uri": "https://localhost:8080/"
        },
        "id": "u1o0ah5k3fqH",
        "outputId": "ca1fe4ac-8b5a-4e02-f698-762a611385a0"
      },
      "execution_count": null,
      "outputs": [
        {
          "output_type": "stream",
          "name": "stdout",
          "text": [
            "                  name  birth_year  birth_date           birthplace  \\\n",
            "26     Hattie McDaniel        1893  1893-06-10          Wichita, Ks   \n",
            "203     Sidney Poitier        1927  1927-02-20            Miami, Fl   \n",
            "251   Lou Gossett, Jr.        1936  1936-05-27         Brooklyn, Ny   \n",
            "256     Morgan Freeman        1937  1937-06-01          Memphis, Tn   \n",
            "332  Denzel Washington        1954  1954-12-28     Mount Vernon, Ny   \n",
            "333  Denzel Washington        1954  1954-12-28     Mount Vernon, Ny   \n",
            "334    Whoopi Goldberg        1955  1955-11-13        New York City   \n",
            "361    Forest Whitaker        1961  1961-07-15         Longview, Tx   \n",
            "376         Jamie Foxx        1967  1967-12-13          Terrell, Tx   \n",
            "380           Mo'Nique        1967  1967-12-11         Woodlawn, Md   \n",
            "384  Cuba Gooding, Jr.        1968  1968-01-02            Bronx, Ny   \n",
            "395    Octavia Spencer        1972  1972-05-25       Montgomery, Al   \n",
            "409    Jennifer Hudson        1981  1981-09-12          Chicago, Il   \n",
            "413     Lupita Nyong'o        1983  1983-03-01  Mexico City, Mexico   \n",
            "\n",
            "    race_ethnicity    religion sexual_orientation  year_edition  \\\n",
            "26           Black   Christian  Matter of Dispute          1940   \n",
            "203          Black       Deist           Straight          1964   \n",
            "251          Black         NaN           Straight          1983   \n",
            "256          Black         NaN           Straight          2005   \n",
            "332          Black  Protestant           Straight          2002   \n",
            "333          Black  Protestant           Straight          1990   \n",
            "334          Black     Atheist           Straight          1991   \n",
            "361          Black         NaN           Straight          2007   \n",
            "376          Black     Baptist           Straight          2005   \n",
            "380          Black         NaN           Straight          2010   \n",
            "384          Black         NaN           Straight          1997   \n",
            "395          Black         NaN                 Na          2012   \n",
            "409          Black     Baptist           Straight          2007   \n",
            "413          Black         NaN                 Na          2014   \n",
            "\n",
            "                    category                       movie  \n",
            "26   Best Supporting Actress          Gone with the Wind  \n",
            "203               Best Actor         Lilies of the Field  \n",
            "251    Best Supporting Actor  An Officer and a Gentleman  \n",
            "256    Best Supporting Actor         Million Dollar Baby  \n",
            "332               Best Actor                Training Day  \n",
            "333    Best Supporting Actor                       Glory  \n",
            "334  Best Supporting Actress                       Ghost  \n",
            "361               Best Actor   The Last King of Scotland  \n",
            "376               Best Actor                         Ray  \n",
            "380  Best Supporting Actress                    Precious  \n",
            "384    Best Supporting Actor               Jerry Maguire  \n",
            "395  Best Supporting Actress                    The Help  \n",
            "409  Best Supporting Actress                  Dreamgirls  \n",
            "413  Best Supporting Actress            12 Years a Slave  \n"
          ]
        }
      ]
    },
    {
      "cell_type": "code",
      "source": [
        "# Contar por ano de edição, quantos dentro os dados_black\n",
        "dados_black['year_edition'].value_counts()"
      ],
      "metadata": {
        "colab": {
          "base_uri": "https://localhost:8080/",
          "height": 492
        },
        "id": "vmC5brJZ3uJ4",
        "outputId": "259b4d14-d449-4fd5-af29-2077a5cb098c"
      },
      "execution_count": null,
      "outputs": [
        {
          "output_type": "execute_result",
          "data": {
            "text/plain": [
              "year_edition\n",
              "2005    2\n",
              "2007    2\n",
              "1940    1\n",
              "1964    1\n",
              "1983    1\n",
              "2002    1\n",
              "1990    1\n",
              "1991    1\n",
              "2010    1\n",
              "1997    1\n",
              "2012    1\n",
              "2014    1\n",
              "Name: count, dtype: int64"
            ],
            "text/html": [
              "<div>\n",
              "<style scoped>\n",
              "    .dataframe tbody tr th:only-of-type {\n",
              "        vertical-align: middle;\n",
              "    }\n",
              "\n",
              "    .dataframe tbody tr th {\n",
              "        vertical-align: top;\n",
              "    }\n",
              "\n",
              "    .dataframe thead th {\n",
              "        text-align: right;\n",
              "    }\n",
              "</style>\n",
              "<table border=\"1\" class=\"dataframe\">\n",
              "  <thead>\n",
              "    <tr style=\"text-align: right;\">\n",
              "      <th></th>\n",
              "      <th>count</th>\n",
              "    </tr>\n",
              "    <tr>\n",
              "      <th>year_edition</th>\n",
              "      <th></th>\n",
              "    </tr>\n",
              "  </thead>\n",
              "  <tbody>\n",
              "    <tr>\n",
              "      <th>2005</th>\n",
              "      <td>2</td>\n",
              "    </tr>\n",
              "    <tr>\n",
              "      <th>2007</th>\n",
              "      <td>2</td>\n",
              "    </tr>\n",
              "    <tr>\n",
              "      <th>1940</th>\n",
              "      <td>1</td>\n",
              "    </tr>\n",
              "    <tr>\n",
              "      <th>1964</th>\n",
              "      <td>1</td>\n",
              "    </tr>\n",
              "    <tr>\n",
              "      <th>1983</th>\n",
              "      <td>1</td>\n",
              "    </tr>\n",
              "    <tr>\n",
              "      <th>2002</th>\n",
              "      <td>1</td>\n",
              "    </tr>\n",
              "    <tr>\n",
              "      <th>1990</th>\n",
              "      <td>1</td>\n",
              "    </tr>\n",
              "    <tr>\n",
              "      <th>1991</th>\n",
              "      <td>1</td>\n",
              "    </tr>\n",
              "    <tr>\n",
              "      <th>2010</th>\n",
              "      <td>1</td>\n",
              "    </tr>\n",
              "    <tr>\n",
              "      <th>1997</th>\n",
              "      <td>1</td>\n",
              "    </tr>\n",
              "    <tr>\n",
              "      <th>2012</th>\n",
              "      <td>1</td>\n",
              "    </tr>\n",
              "    <tr>\n",
              "      <th>2014</th>\n",
              "      <td>1</td>\n",
              "    </tr>\n",
              "  </tbody>\n",
              "</table>\n",
              "</div><br><label><b>dtype:</b> int64</label>"
            ]
          },
          "metadata": {},
          "execution_count": 19
        }
      ]
    },
    {
      "cell_type": "code",
      "source": [
        "# organizar os dados_black por ordem cronologica e exibir os valores\n",
        "dados_black['year_edition'].value_counts().sort_index()\n"
      ],
      "metadata": {
        "colab": {
          "base_uri": "https://localhost:8080/",
          "height": 492
        },
        "collapsed": true,
        "id": "koMxv_If-mRU",
        "outputId": "52f36ad8-eec7-44d4-aaa8-f6bcbd55cbce"
      },
      "execution_count": null,
      "outputs": [
        {
          "output_type": "execute_result",
          "data": {
            "text/plain": [
              "year_edition\n",
              "1940    1\n",
              "1964    1\n",
              "1983    1\n",
              "1990    1\n",
              "1991    1\n",
              "1997    1\n",
              "2002    1\n",
              "2005    2\n",
              "2007    2\n",
              "2010    1\n",
              "2012    1\n",
              "2014    1\n",
              "Name: count, dtype: int64"
            ],
            "text/html": [
              "<div>\n",
              "<style scoped>\n",
              "    .dataframe tbody tr th:only-of-type {\n",
              "        vertical-align: middle;\n",
              "    }\n",
              "\n",
              "    .dataframe tbody tr th {\n",
              "        vertical-align: top;\n",
              "    }\n",
              "\n",
              "    .dataframe thead th {\n",
              "        text-align: right;\n",
              "    }\n",
              "</style>\n",
              "<table border=\"1\" class=\"dataframe\">\n",
              "  <thead>\n",
              "    <tr style=\"text-align: right;\">\n",
              "      <th></th>\n",
              "      <th>count</th>\n",
              "    </tr>\n",
              "    <tr>\n",
              "      <th>year_edition</th>\n",
              "      <th></th>\n",
              "    </tr>\n",
              "  </thead>\n",
              "  <tbody>\n",
              "    <tr>\n",
              "      <th>1940</th>\n",
              "      <td>1</td>\n",
              "    </tr>\n",
              "    <tr>\n",
              "      <th>1964</th>\n",
              "      <td>1</td>\n",
              "    </tr>\n",
              "    <tr>\n",
              "      <th>1983</th>\n",
              "      <td>1</td>\n",
              "    </tr>\n",
              "    <tr>\n",
              "      <th>1990</th>\n",
              "      <td>1</td>\n",
              "    </tr>\n",
              "    <tr>\n",
              "      <th>1991</th>\n",
              "      <td>1</td>\n",
              "    </tr>\n",
              "    <tr>\n",
              "      <th>1997</th>\n",
              "      <td>1</td>\n",
              "    </tr>\n",
              "    <tr>\n",
              "      <th>2002</th>\n",
              "      <td>1</td>\n",
              "    </tr>\n",
              "    <tr>\n",
              "      <th>2005</th>\n",
              "      <td>2</td>\n",
              "    </tr>\n",
              "    <tr>\n",
              "      <th>2007</th>\n",
              "      <td>2</td>\n",
              "    </tr>\n",
              "    <tr>\n",
              "      <th>2010</th>\n",
              "      <td>1</td>\n",
              "    </tr>\n",
              "    <tr>\n",
              "      <th>2012</th>\n",
              "      <td>1</td>\n",
              "    </tr>\n",
              "    <tr>\n",
              "      <th>2014</th>\n",
              "      <td>1</td>\n",
              "    </tr>\n",
              "  </tbody>\n",
              "</table>\n",
              "</div><br><label><b>dtype:</b> int64</label>"
            ]
          },
          "metadata": {},
          "execution_count": 34
        }
      ]
    },
    {
      "cell_type": "code",
      "source": [
        "# Mostrar em um gráfico, os dados por race_ethnicity x ano da edição, da variável dados, nos anos em que tem dados_black\n",
        "\n",
        "filtered_data = dados[dados['year_edition'].isin(dados_black['year_edition'])]\n",
        "\n",
        "table = pd.pivot_table(filtered_data,\n",
        "                       index='race_ethnicity', columns='year_edition',\n",
        "                       aggfunc='count', fill_value=0)\n",
        "\n",
        "# Exibir a tabela\n",
        "print(table)\n"
      ],
      "metadata": {
        "colab": {
          "base_uri": "https://localhost:8080/"
        },
        "collapsed": true,
        "id": "mj2-ro7z-9-V",
        "outputId": "d396642a-b052-4517-f891-5be22d1d6983"
      },
      "execution_count": null,
      "outputs": [
        {
          "output_type": "stream",
          "name": "stdout",
          "text": [
            "               birth_date                                               ...  \\\n",
            "year_edition         1940 1964 1983 1990 1991 1997 2002 2005 2007 2010  ...   \n",
            "race_ethnicity                                                          ...   \n",
            "Black                   1    1    1    1    1    1    1    2    2    1  ...   \n",
            "Multiracial             0    0    1    0    0    0    1    0    0    0  ...   \n",
            "White                   5    4    3    4    4    5    3    3    4    3  ...   \n",
            "\n",
            "               sexual_orientation                                               \n",
            "year_edition                 1983 1990 1991 1997 2002 2005 2007 2010 2012 2014  \n",
            "race_ethnicity                                                                  \n",
            "Black                           1    1    1    1    1    2    2    1    1    1  \n",
            "Multiracial                     1    0    0    0    1    0    0    0    0    0  \n",
            "White                           3    4    4    5    3    3    4    3    4    3  \n",
            "\n",
            "[3 rows x 96 columns]\n"
          ]
        }
      ]
    },
    {
      "cell_type": "code",
      "source": [
        "years = table.columns\n",
        "\n",
        "# Obter os rótulos para a legenda (raças/etnias)\n",
        "races = table.index\n",
        "\n",
        "# Criar o gráfico de barras\n",
        "fig, ax = plt.subplots(figsize=(12, 6))  # Aumentar o tamanho da figura para melhor visualização\n",
        "\n",
        "width = 0.8 / len(races)  # Ajustar a largura das barras para evitar sobreposição\n",
        "\n",
        "x_pos = np.arange(len(years))\n",
        "\n",
        "for i, race in enumerate(races):\n",
        "    ax.bar(x_pos + i * width, table.loc[race], width=width, label=race)\n",
        "\n",
        "# Configurar os rótulos dos eixos e a legenda\n",
        "ax.set_xticks(x_pos + width * (len(races) - 1) / 2)\n",
        "ax.set_xticklabels(years)\n",
        "ax.set_xlabel('Ano')\n",
        "ax.set_ylabel('Contagem')\n",
        "ax.legend()\n",
        "\n",
        "plt.title('Contagem de Prêmios por Raça/Etnia e Ano')\n",
        "plt.show()"
      ],
      "metadata": {
        "colab": {
          "base_uri": "https://localhost:8080/",
          "height": 471
        },
        "id": "0H4nuDinBIkT",
        "outputId": "ffb7174a-bde5-437c-bd53-a4003151ff41"
      },
      "execution_count": null,
      "outputs": [
        {
          "output_type": "display_data",
          "data": {
            "text/plain": [
              "<Figure size 1200x600 with 1 Axes>"
            ],
            "image/png": "[encoded data removed]"
          },
          "metadata": {}
        }
      ]
    },
    {
      "cell_type": "code",
      "source": [
        "import matplotlib.pyplot as plt\n",
        "import pandas as pd\n",
        "import numpy as np\n",
        "\n",
        "# ... (código para carregar, filtrar os dados e criar a tabela dinâmica 'table') ...\n",
        "\n",
        "# Lista de anos a serem filtrados\n",
        "years_to_filter = [2005, 2007, 1940, 1964, 1983, 2002, 1990, 1991, 2010, 1997, 2012, 2014]\n",
        "valid_years = [year for year in years_to_filter if year in table.columns]\n",
        "\n",
        "# Filtrar a tabela dinâmica\n",
        "filtered_table = table[[col for col in table.columns if col in valid_years]]\n",
        "\n",
        "# ... (restante do código do gráfico, usando 'filtered_table' em vez de 'table') ..."
      ],
      "metadata": {
        "id": "N5PvP1a8BpDa"
      },
      "execution_count": null,
      "outputs": []
    },
    {
      "cell_type": "code",
      "source": [
        "years = filtered_table.columns\n",
        "\n",
        "# Obter os rótulos para a legenda (raças/etnias)\n",
        "races = filtered_table.index\n",
        "\n",
        "# Criar o gráfico de barras\n",
        "fig, ax = plt.subplots(figsize=(12, 6))  # Aumentar o tamanho da figura para melhor visualização\n",
        "\n",
        "width = 0.8 / len(races)  # Ajustar a largura das barras para evitar sobreposição\n",
        "\n",
        "x_pos = np.arange(len(years))\n",
        "\n",
        "for i, race in enumerate(races):\n",
        "    ax.bar(x_pos + i * width, filtered_table.loc[race], width=width, label=race)\n",
        "\n",
        "# Configurar os rótulos dos eixos e a legenda\n",
        "ax.set_xticks(x_pos + width * (len(races) - 1) / 2)\n",
        "ax.set_xticklabels(years)\n",
        "ax.set_xlabel('Ano')\n",
        "ax.set_ylabel('Contagem')\n",
        "ax.legend()\n",
        "\n",
        "plt.title('Contagem de Prêmios por Raça/Etnia e Ano')\n",
        "plt.show()"
      ],
      "metadata": {
        "colab": {
          "base_uri": "https://localhost:8080/",
          "height": 458
        },
        "collapsed": true,
        "id": "jhkPD-RcB7iI",
        "outputId": "30b0b8eb-ca80-4d0e-b535-d6f032738cb2"
      },
      "execution_count": null,
      "outputs": [
        {
          "output_type": "display_data",
          "data": {
            "text/plain": [
              "<Figure size 1200x600 with 1 Axes>"
            ],
            "image/png": "[encoded data removed]"
          },
          "metadata": {}
        }
      ]
    },
    {
      "cell_type": "code",
      "source": [
        "# import matplotlib.pyplot as plt\n",
        "\n",
        "# df = results.to_dataframe() # Converter os resultados da consulta em um DataFrame do Pandas\n",
        "\n",
        "# # Agrupar por categoria e contar o número de vencedores\n",
        "# vencedores_por_categoria = df.groupby('category')['Winner'].sum().reset_index()\n",
        "\n",
        "# # Criar um gráfico de barras\n",
        "# plt.figure(figsize=(12, 6))\n",
        "# plt.bar(vencedores_por_categoria['category'], vencedores_por_categoria['Winner'])\n",
        "# plt.xlabel('Categoria')\n",
        "# plt.ylabel('Número de Vencedores')\n",
        "# plt.title('Número de Vencedores do Oscar por Categoria')\n",
        "# plt.xticks(rotation=90)\n",
        "# plt.show()"
      ],
      "metadata": {
        "id": "4zptEXA-yOFG"
      },
      "execution_count": null,
      "outputs": []
    },
    {
      "cell_type": "markdown",
      "source": [
        "# CONSULTAS DOS ANOS EM QUE HOUVE PREMIAÇÃO PARA BLACK PEOPLE"
      ],
      "metadata": {
        "id": "jyh_qyT2stel"
      }
    },
    {
      "cell_type": "code",
      "source": [
        "from google.colab import drive\n",
        "drive.mount('/content/drive')"
      ],
      "metadata": {
        "colab": {
          "base_uri": "https://localhost:8080/"
        },
        "id": "ZZM9KPyOzSuz",
        "outputId": "7f6c4c60-4c04-488b-b5cf-afff8d132740"
      },
      "execution_count": 2,
      "outputs": [
        {
          "output_type": "stream",
          "name": "stdout",
          "text": [
            "Mounted at /content/drive\n"
          ]
        }
      ]
    },
    {
      "cell_type": "code",
      "source": [
        "import pandas as pd\n",
        "\n",
        "years_with_black_winners = pd.read_csv('/content/drive/MyDrive/bq-results-20241024-224139-1729812040038/ALL_FROM_YEARS_WITH_BLACK_WINNERS.csv')\n"
      ],
      "metadata": {
        "id": "SMQLs-Uys0gr"
      },
      "execution_count": 4,
      "outputs": []
    },
    {
      "cell_type": "code",
      "source": [
        "years_with_black_winners.head()"
      ],
      "metadata": {
        "id": "Ga2eOWLytnQn",
        "outputId": "da946c7f-5517-40dd-b3b1-ab6fea831cb6",
        "colab": {
          "base_uri": "https://localhost:8080/",
          "height": 382
        }
      },
      "execution_count": 5,
      "outputs": [
        {
          "output_type": "execute_result",
          "data": {
            "text/plain": [
              "                  name  birth_year  birth_date       birthplace  \\\n",
              "0       Victor Fleming        1883  1883-02-23     Pasadena, Ca   \n",
              "1  Margaret Rutherford        1892  1892-05-11  London, England   \n",
              "2      Thomas Mitchell        1892  1892-07-11    Elizabeth, Nj   \n",
              "3      Hattie McDaniel        1893  1893-06-10      Wichita, Ks   \n",
              "4       Melvyn Douglas        1901  1901-04-05        Macon, Ga   \n",
              "\n",
              "  race_ethnicity   religion sexual_orientation  year_edition  \\\n",
              "0          White        NaN           Straight          1940   \n",
              "1          White        NaN           Straight          1964   \n",
              "2          White        NaN           Straight          1940   \n",
              "3          Black  Christian  Matter of Dispute          1940   \n",
              "4          White     Jewish           Straight          1964   \n",
              "\n",
              "                  category               movie  \n",
              "0            Best Director  Gone with the Wind  \n",
              "1  Best Supporting Actress         the V.I.P.s  \n",
              "2    Best Supporting Actor          Stagecoach  \n",
              "3  Best Supporting Actress  Gone with the Wind  \n",
              "4    Best Supporting Actor                 Hud  "
            ],
            "text/html": [
              "\n",
              "  <div id=\"df-f61c9f28-84f4-4827-b014-1c52e91be595\" class=\"colab-df-container\">\n",
              "    <div>\n",
              "<style scoped>\n",
              "    .dataframe tbody tr th:only-of-type {\n",
              "        vertical-align: middle;\n",
              "    }\n",
              "\n",
              "    .dataframe tbody tr th {\n",
              "        vertical-align: top;\n",
              "    }\n",
              "\n",
              "    .dataframe thead th {\n",
              "        text-align: right;\n",
              "    }\n",
              "</style>\n",
              "<table border=\"1\" class=\"dataframe\">\n",
              "  <thead>\n",
              "    <tr style=\"text-align: right;\">\n",
              "      <th></th>\n",
              "      <th>name</th>\n",
              "      <th>birth_year</th>\n",
              "      <th>birth_date</th>\n",
              "      <th>birthplace</th>\n",
              "      <th>race_ethnicity</th>\n",
              "      <th>religion</th>\n",
              "      <th>sexual_orientation</th>\n",
              "      <th>year_edition</th>\n",
              "      <th>category</th>\n",
              "      <th>movie</th>\n",
              "    </tr>\n",
              "  </thead>\n",
              "  <tbody>\n",
              "    <tr>\n",
              "      <th>0</th>\n",
              "      <td>Victor Fleming</td>\n",
              "      <td>1883</td>\n",
              "      <td>1883-02-23</td>\n",
              "      <td>Pasadena, Ca</td>\n",
              "      <td>White</td>\n",
              "      <td>NaN</td>\n",
              "      <td>Straight</td>\n",
              "      <td>1940</td>\n",
              "      <td>Best Director</td>\n",
              "      <td>Gone with the Wind</td>\n",
              "    </tr>\n",
              "    <tr>\n",
              "      <th>1</th>\n",
              "      <td>Margaret Rutherford</td>\n",
              "      <td>1892</td>\n",
              "      <td>1892-05-11</td>\n",
              "      <td>London, England</td>\n",
              "      <td>White</td>\n",
              "      <td>NaN</td>\n",
              "      <td>Straight</td>\n",
              "      <td>1964</td>\n",
              "      <td>Best Supporting Actress</td>\n",
              "      <td>the V.I.P.s</td>\n",
              "    </tr>\n",
              "    <tr>\n",
              "      <th>2</th>\n",
              "      <td>Thomas Mitchell</td>\n",
              "      <td>1892</td>\n",
              "      <td>1892-07-11</td>\n",
              "      <td>Elizabeth, Nj</td>\n",
              "      <td>White</td>\n",
              "      <td>NaN</td>\n",
              "      <td>Straight</td>\n",
              "      <td>1940</td>\n",
              "      <td>Best Supporting Actor</td>\n",
              "      <td>Stagecoach</td>\n",
              "    </tr>\n",
              "    <tr>\n",
              "      <th>3</th>\n",
              "      <td>Hattie McDaniel</td>\n",
              "      <td>1893</td>\n",
              "      <td>1893-06-10</td>\n",
              "      <td>Wichita, Ks</td>\n",
              "      <td>Black</td>\n",
              "      <td>Christian</td>\n",
              "      <td>Matter of Dispute</td>\n",
              "      <td>1940</td>\n",
              "      <td>Best Supporting Actress</td>\n",
              "      <td>Gone with the Wind</td>\n",
              "    </tr>\n",
              "    <tr>\n",
              "      <th>4</th>\n",
              "      <td>Melvyn Douglas</td>\n",
              "      <td>1901</td>\n",
              "      <td>1901-04-05</td>\n",
              "      <td>Macon, Ga</td>\n",
              "      <td>White</td>\n",
              "      <td>Jewish</td>\n",
              "      <td>Straight</td>\n",
              "      <td>1964</td>\n",
              "      <td>Best Supporting Actor</td>\n",
              "      <td>Hud</td>\n",
              "    </tr>\n",
              "  </tbody>\n",
              "</table>\n",
              "</div>\n",
              "    <div class=\"colab-df-buttons\">\n",
              "\n",
              "  <div class=\"colab-df-container\">\n",
              "    <button class=\"colab-df-convert\" onclick=\"convertToInteractive('df-f61c9f28-84f4-4827-b014-1c52e91be595')\"\n",
              "            title=\"Convert this dataframe to an interactive table.\"\n",
              "            style=\"display:none;\">\n",
              "\n",
              "  <svg xmlns=\"http://www.w3.org/2000/svg\" height=\"24px\" viewBox=\"0 -960 960 960\">\n",
              "    <path d=\"M120-120v-720h720v720H120Zm60-500h600v-160H180v160Zm220 220h160v-160H400v160Zm0 220h160v-160H400v160ZM180-400h160v-160H180v160Zm440 0h160v-160H620v160ZM180-180h160v-160H180v160Zm440 0h160v-160H620v160Z\"/>\n",
              "  </svg>\n",
              "    </button>\n",
              "\n",
              "  <style>\n",
              "    .colab-df-container {\n",
              "      display:flex;\n",
              "      gap: 12px;\n",
              "    }\n",
              "\n",
              "    .colab-df-convert {\n",
              "      background-color: #E8F0FE;\n",
              "      border: none;\n",
              "      border-radius: 50%;\n",
              "      cursor: pointer;\n",
              "      display: none;\n",
              "      fill: #1967D2;\n",
              "      height: 32px;\n",
              "      padding: 0 0 0 0;\n",
              "      width: 32px;\n",
              "    }\n",
              "\n",
              "    .colab-df-convert:hover {\n",
              "      background-color: #E2EBFA;\n",
              "      box-shadow: 0px 1px 2px rgba(60, 64, 67, 0.3), 0px 1px 3px 1px rgba(60, 64, 67, 0.15);\n",
              "      fill: #174EA6;\n",
              "    }\n",
              "\n",
              "    .colab-df-buttons div {\n",
              "      margin-bottom: 4px;\n",
              "    }\n",
              "\n",
              "    [theme=dark] .colab-df-convert {\n",
              "      background-color: #3B4455;\n",
              "      fill: #D2E3FC;\n",
              "    }\n",
              "\n",
              "    [theme=dark] .colab-df-convert:hover {\n",
              "      background-color: #434B5C;\n",
              "      box-shadow: 0px 1px 3px 1px rgba(0, 0, 0, 0.15);\n",
              "      filter: drop-shadow(0px 1px 2px rgba(0, 0, 0, 0.3));\n",
              "      fill: #FFFFFF;\n",
              "    }\n",
              "  </style>\n",
              "\n",
              "    <script>\n",
              "      const buttonEl =\n",
              "        document.querySelector('#df-f61c9f28-84f4-4827-b014-1c52e91be595 button.colab-df-convert');\n",
              "      buttonEl.style.display =\n",
              "        google.colab.kernel.accessAllowed ? 'block' : 'none';\n",
              "\n",
              "      async function convertToInteractive(key) {\n",
              "        const element = document.querySelector('#df-f61c9f28-84f4-4827-b014-1c52e91be595');\n",
              "        const dataTable =\n",
              "          await google.colab.kernel.invokeFunction('convertToInteractive',\n",
              "                                                    [key], {});\n",
              "        if (!dataTable) return;\n",
              "\n",
              "        const docLinkHtml = 'Like what you see? Visit the ' +\n",
              "          '<a target=\"_blank\" href=https://colab.research.google.com/notebooks/data_table.ipynb>data table notebook</a>'\n",
              "          + ' to learn more about interactive tables.';\n",
              "        element.innerHTML = '';\n",
              "        dataTable['output_type'] = 'display_data';\n",
              "        await google.colab.output.renderOutput(dataTable, element);\n",
              "        const docLink = document.createElement('div');\n",
              "        docLink.innerHTML = docLinkHtml;\n",
              "        element.appendChild(docLink);\n",
              "      }\n",
              "    </script>\n",
              "  </div>\n",
              "\n",
              "\n",
              "<div id=\"df-af29ea00-5842-47ab-82f9-e603cbc6667a\">\n",
              "  <button class=\"colab-df-quickchart\" onclick=\"quickchart('df-af29ea00-5842-47ab-82f9-e603cbc6667a')\"\n",
              "            title=\"Suggest charts\"\n",
              "            style=\"display:none;\">\n",
              "\n",
              "<svg xmlns=\"http://www.w3.org/2000/svg\" height=\"24px\"viewBox=\"0 0 24 24\"\n",
              "     width=\"24px\">\n",
              "    <g>\n",
              "        <path d=\"M19 3H5c-1.1 0-2 .9-2 2v14c0 1.1.9 2 2 2h14c1.1 0 2-.9 2-2V5c0-1.1-.9-2-2-2zM9 17H7v-7h2v7zm4 0h-2V7h2v10zm4 0h-2v-4h2v4z\"/>\n",
              "    </g>\n",
              "</svg>\n",
              "  </button>\n",
              "\n",
              "<style>\n",
              "  .colab-df-quickchart {\n",
              "      --bg-color: #E8F0FE;\n",
              "      --fill-color: #1967D2;\n",
              "      --hover-bg-color: #E2EBFA;\n",
              "      --hover-fill-color: #174EA6;\n",
              "      --disabled-fill-color: #AAA;\n",
              "      --disabled-bg-color: #DDD;\n",
              "  }\n",
              "\n",
              "  [theme=dark] .colab-df-quickchart {\n",
              "      --bg-color: #3B4455;\n",
              "      --fill-color: #D2E3FC;\n",
              "      --hover-bg-color: #434B5C;\n",
              "      --hover-fill-color: #FFFFFF;\n",
              "      --disabled-bg-color: #3B4455;\n",
              "      --disabled-fill-color: #666;\n",
              "  }\n",
              "\n",
              "  .colab-df-quickchart {\n",
              "    background-color: var(--bg-color);\n",
              "    border: none;\n",
              "    border-radius: 50%;\n",
              "    cursor: pointer;\n",
              "    display: none;\n",
              "    fill: var(--fill-color);\n",
              "    height: 32px;\n",
              "    padding: 0;\n",
              "    width: 32px;\n",
              "  }\n",
              "\n",
              "  .colab-df-quickchart:hover {\n",
              "    background-color: var(--hover-bg-color);\n",
              "    box-shadow: 0 1px 2px rgba(60, 64, 67, 0.3), 0 1px 3px 1px rgba(60, 64, 67, 0.15);\n",
              "    fill: var(--button-hover-fill-color);\n",
              "  }\n",
              "\n",
              "  .colab-df-quickchart-complete:disabled,\n",
              "  .colab-df-quickchart-complete:disabled:hover {\n",
              "    background-color: var(--disabled-bg-color);\n",
              "    fill: var(--disabled-fill-color);\n",
              "    box-shadow: none;\n",
              "  }\n",
              "\n",
              "  .colab-df-spinner {\n",
              "    border: 2px solid var(--fill-color);\n",
              "    border-color: transparent;\n",
              "    border-bottom-color: var(--fill-color);\n",
              "    animation:\n",
              "      spin 1s steps(1) infinite;\n",
              "  }\n",
              "\n",
              "  @keyframes spin {\n",
              "    0% {\n",
              "      border-color: transparent;\n",
              "      border-bottom-color: var(--fill-color);\n",
              "      border-left-color: var(--fill-color);\n",
              "    }\n",
              "    20% {\n",
              "      border-color: transparent;\n",
              "      border-left-color: var(--fill-color);\n",
              "      border-top-color: var(--fill-color);\n",
              "    }\n",
              "    30% {\n",
              "      border-color: transparent;\n",
              "      border-left-color: var(--fill-color);\n",
              "      border-top-color: var(--fill-color);\n",
              "      border-right-color: var(--fill-color);\n",
              "    }\n",
              "    40% {\n",
              "      border-color: transparent;\n",
              "      border-right-color: var(--fill-color);\n",
              "      border-top-color: var(--fill-color);\n",
              "    }\n",
              "    60% {\n",
              "      border-color: transparent;\n",
              "      border-right-color: var(--fill-color);\n",
              "    }\n",
              "    80% {\n",
              "      border-color: transparent;\n",
              "      border-right-color: var(--fill-color);\n",
              "      border-bottom-color: var(--fill-color);\n",
              "    }\n",
              "    90% {\n",
              "      border-color: transparent;\n",
              "      border-bottom-color: var(--fill-color);\n",
              "    }\n",
              "  }\n",
              "</style>\n",
              "\n",
              "  <script>\n",
              "    async function quickchart(key) {\n",
              "      const quickchartButtonEl =\n",
              "        document.querySelector('#' + key + ' button');\n",
              "      quickchartButtonEl.disabled = true;  // To prevent multiple clicks.\n",
              "      quickchartButtonEl.classList.add('colab-df-spinner');\n",
              "      try {\n",
              "        const charts = await google.colab.kernel.invokeFunction(\n",
              "            'suggestCharts', [key], {});\n",
              "      } catch (error) {\n",
              "        console.error('Error during call to suggestCharts:', error);\n",
              "      }\n",
              "      quickchartButtonEl.classList.remove('colab-df-spinner');\n",
              "      quickchartButtonEl.classList.add('colab-df-quickchart-complete');\n",
              "    }\n",
              "    (() => {\n",
              "      let quickchartButtonEl =\n",
              "        document.querySelector('#df-af29ea00-5842-47ab-82f9-e603cbc6667a button');\n",
              "      quickchartButtonEl.style.display =\n",
              "        google.colab.kernel.accessAllowed ? 'block' : 'none';\n",
              "    })();\n",
              "  </script>\n",
              "</div>\n",
              "\n",
              "    </div>\n",
              "  </div>\n"
            ],
            "application/vnd.google.colaboratory.intrinsic+json": {
              "type": "dataframe",
              "variable_name": "years_with_black_winners",
              "summary": "{\n  \"name\": \"years_with_black_winners\",\n  \"rows\": 61,\n  \"fields\": [\n    {\n      \"column\": \"name\",\n      \"properties\": {\n        \"dtype\": \"string\",\n        \"num_unique_values\": 58,\n        \"samples\": [\n          \"Victor Fleming\",\n          \"Robert Donat\",\n          \"Denzel Washington\"\n        ],\n        \"semantic_type\": \"\",\n        \"description\": \"\"\n      }\n    },\n    {\n      \"column\": \"birth_year\",\n      \"properties\": {\n        \"dtype\": \"number\",\n        \"std\": 23,\n        \"min\": 1883,\n        \"max\": 1983,\n        \"num_unique_values\": 41,\n        \"samples\": [\n          1954,\n          1934,\n          1926\n        ],\n        \"semantic_type\": \"\",\n        \"description\": \"\"\n      }\n    },\n    {\n      \"column\": \"birth_date\",\n      \"properties\": {\n        \"dtype\": \"object\",\n        \"num_unique_values\": 58,\n        \"samples\": [\n          \"1883-02-23\",\n          \"1905-03-18\",\n          \"1954-12-28\"\n        ],\n        \"semantic_type\": \"\",\n        \"description\": \"\"\n      }\n    },\n    {\n      \"column\": \"birthplace\",\n      \"properties\": {\n        \"dtype\": \"string\",\n        \"num_unique_values\": 49,\n        \"samples\": [\n          \"Brooklyn, Ny\",\n          \"Montgomery, Al\",\n          \"Lincoln, Ne\"\n        ],\n        \"semantic_type\": \"\",\n        \"description\": \"\"\n      }\n    },\n    {\n      \"column\": \"race_ethnicity\",\n      \"properties\": {\n        \"dtype\": \"category\",\n        \"num_unique_values\": 3,\n        \"samples\": [\n          \"White\",\n          \"Black\",\n          \"Multiracial\"\n        ],\n        \"semantic_type\": \"\",\n        \"description\": \"\"\n      }\n    },\n    {\n      \"column\": \"religion\",\n      \"properties\": {\n        \"dtype\": \"category\",\n        \"num_unique_values\": 10,\n        \"samples\": [\n          \"Baptist\",\n          \"Jewish\",\n          \"Quaker\"\n        ],\n        \"semantic_type\": \"\",\n        \"description\": \"\"\n      }\n    },\n    {\n      \"column\": \"sexual_orientation\",\n      \"properties\": {\n        \"dtype\": \"category\",\n        \"num_unique_values\": 4,\n        \"samples\": [\n          \"Matter of Dispute\",\n          \"Na\",\n          \"Straight\"\n        ],\n        \"semantic_type\": \"\",\n        \"description\": \"\"\n      }\n    },\n    {\n      \"column\": \"year_edition\",\n      \"properties\": {\n        \"dtype\": \"number\",\n        \"std\": 21,\n        \"min\": 1940,\n        \"max\": 2014,\n        \"num_unique_values\": 12,\n        \"samples\": [\n          2002,\n          2010,\n          1940\n        ],\n        \"semantic_type\": \"\",\n        \"description\": \"\"\n      }\n    },\n    {\n      \"column\": \"category\",\n      \"properties\": {\n        \"dtype\": \"category\",\n        \"num_unique_values\": 5,\n        \"samples\": [\n          \"Best Supporting Actress\",\n          \"Best Actress\",\n          \"Best Supporting Actor\"\n        ],\n        \"semantic_type\": \"\",\n        \"description\": \"\"\n      }\n    },\n    {\n      \"column\": \"movie\",\n      \"properties\": {\n        \"dtype\": \"string\",\n        \"num_unique_values\": 51,\n        \"samples\": [\n          \"The Artist\",\n          \"Monster's Ball\",\n          \"Blue Jasmine\"\n        ],\n        \"semantic_type\": \"\",\n        \"description\": \"\"\n      }\n    }\n  ]\n}"
            }
          },
          "metadata": {},
          "execution_count": 5
        }
      ]
    },
    {
      "cell_type": "code",
      "source": [
        "# Exibir quantidade de ganhadores em cada ano de edição por race_ethnicity\n",
        "years_with_black_winners['race_ethnicity'].value_counts()"
      ],
      "metadata": {
        "id": "-w7kgwqntY3M",
        "outputId": "65420f60-ce17-442d-ba0e-3884ba21f528",
        "colab": {
          "base_uri": "https://localhost:8080/",
          "height": 210
        }
      },
      "execution_count": 6,
      "outputs": [
        {
          "output_type": "execute_result",
          "data": {
            "text/plain": [
              "race_ethnicity\n",
              "White          45\n",
              "Black          14\n",
              "Multiracial     2\n",
              "Name: count, dtype: int64"
            ],
            "text/html": [
              "<div>\n",
              "<style scoped>\n",
              "    .dataframe tbody tr th:only-of-type {\n",
              "        vertical-align: middle;\n",
              "    }\n",
              "\n",
              "    .dataframe tbody tr th {\n",
              "        vertical-align: top;\n",
              "    }\n",
              "\n",
              "    .dataframe thead th {\n",
              "        text-align: right;\n",
              "    }\n",
              "</style>\n",
              "<table border=\"1\" class=\"dataframe\">\n",
              "  <thead>\n",
              "    <tr style=\"text-align: right;\">\n",
              "      <th></th>\n",
              "      <th>count</th>\n",
              "    </tr>\n",
              "    <tr>\n",
              "      <th>race_ethnicity</th>\n",
              "      <th></th>\n",
              "    </tr>\n",
              "  </thead>\n",
              "  <tbody>\n",
              "    <tr>\n",
              "      <th>White</th>\n",
              "      <td>45</td>\n",
              "    </tr>\n",
              "    <tr>\n",
              "      <th>Black</th>\n",
              "      <td>14</td>\n",
              "    </tr>\n",
              "    <tr>\n",
              "      <th>Multiracial</th>\n",
              "      <td>2</td>\n",
              "    </tr>\n",
              "  </tbody>\n",
              "</table>\n",
              "</div><br><label><b>dtype:</b> int64</label>"
            ]
          },
          "metadata": {},
          "execution_count": 6
        }
      ]
    },
    {
      "cell_type": "code",
      "source": [
        "# Exibir em percentual (%) os valores de race_ethnicity por ano\n",
        "total_percentual = years_with_black_winners['race_ethnicity'].value_counts(normalize=True)\n",
        "formatted_percentual = total_percentual.apply(lambda x: f'{x * 100:.0f}%').to_string()\n",
        "print(formatted_percentual)"
      ],
      "metadata": {
        "id": "ylrDwSFsuPDI",
        "outputId": "5d85d475-aa31-4e3b-dc82-41c27623e2cd",
        "colab": {
          "base_uri": "https://localhost:8080/"
        }
      },
      "execution_count": 7,
      "outputs": [
        {
          "output_type": "stream",
          "name": "stdout",
          "text": [
            "race_ethnicity\n",
            "White          74%\n",
            "Black          23%\n",
            "Multiracial     3%\n"
          ]
        }
      ]
    },
    {
      "cell_type": "code",
      "source": [
        "import matplotlib.pyplot as plt\n",
        "import pandas as pd\n",
        "import numpy as np\n",
        "import seaborn as sns\n"
      ],
      "metadata": {
        "id": "jrH8Jp3DvMPU"
      },
      "execution_count": 8,
      "outputs": []
    },
    {
      "cell_type": "code",
      "source": [
        "# Fazer gráfico mostrando a quantidade de cada race_ethnicity por year_edition na table years_with_black_winners\n",
        "\n",
        "# Group data by year_edition and race_ethnicity, then count occurrences\n",
        "race_ethnicity_by_year = years_with_black_winners.groupby(['year_edition', 'race_ethnicity'])['name'].count().reset_index()\n",
        "\n",
        "# Rename the 'name' column to 'count' for clarity\n",
        "race_ethnicity_by_year = race_ethnicity_by_year.rename(columns={'name': 'count'})\n",
        "\n",
        "# Create the plot using seaborn\n",
        "plt.figure(figsize=(12, 6))  # Adjust figure size as needed\n",
        "sns.barplot(x='year_edition', y='count', hue='race_ethnicity', data=race_ethnicity_by_year)\n",
        "plt.title('Quantity of Each Race/Ethnicity per Year Edition')\n",
        "plt.xlabel('Year Edition')\n",
        "plt.ylabel('Count')\n",
        "plt.xticks(rotation=45, ha='right')  # Rotate x-axis labels for readability\n",
        "plt.legend(title='Race/Ethnicity')\n",
        "plt.tight_layout()\n",
        "plt.show()\n"
      ],
      "metadata": {
        "id": "hogk1sOMvunk",
        "outputId": "32514318-add9-4041-bf1a-a3fc78ad0ab5",
        "colab": {
          "base_uri": "https://localhost:8080/",
          "height": 365
        }
      },
      "execution_count": 9,
      "outputs": [
        {
          "output_type": "display_data",
          "data": {
            "text/plain": [
              "<Figure size 1200x600 with 1 Axes>"
            ],
            "image/png": "[encoded data removed]"
          },
          "metadata": {}
        }
      ]
    },
    {
      "cell_type": "code",
      "source": [
        "only_black_winners = years_with_black_winners[years_with_black_winners['race_ethnicity'] == 'Black']\n",
        "print(only_black_winners)"
      ],
      "metadata": {
        "colab": {
          "base_uri": "https://localhost:8080/"
        },
        "id": "M7CdtfeqyUfy",
        "outputId": "170d7629-5ea4-4deb-d16e-7cb999da753e"
      },
      "execution_count": 10,
      "outputs": [
        {
          "output_type": "stream",
          "name": "stdout",
          "text": [
            "                 name  birth_year  birth_date           birthplace  \\\n",
            "3     Hattie McDaniel        1893  1893-06-10          Wichita, Ks   \n",
            "10     Sidney Poitier        1927  1927-02-20            Miami, Fl   \n",
            "15   Lou Gossett, Jr.        1936  1936-05-27         Brooklyn, Ny   \n",
            "16     Morgan Freeman        1937  1937-06-01          Memphis, Tn   \n",
            "35  Denzel Washington        1954  1954-12-28     Mount Vernon, Ny   \n",
            "36  Denzel Washington        1954  1954-12-28     Mount Vernon, Ny   \n",
            "37    Whoopi Goldberg        1955  1955-11-13        New York City   \n",
            "43    Forest Whitaker        1961  1961-07-15         Longview, Tx   \n",
            "47         Jamie Foxx        1967  1967-12-13          Terrell, Tx   \n",
            "48           Mo'Nique        1967  1967-12-11         Woodlawn, Md   \n",
            "50  Cuba Gooding, Jr.        1968  1968-01-02            Bronx, Ny   \n",
            "56    Octavia Spencer        1972  1972-05-25       Montgomery, Al   \n",
            "59    Jennifer Hudson        1981  1981-09-12          Chicago, Il   \n",
            "60     Lupita Nyong'o        1983  1983-03-01  Mexico City, Mexico   \n",
            "\n",
            "   race_ethnicity    religion sexual_orientation  year_edition  \\\n",
            "3           Black   Christian  Matter of Dispute          1940   \n",
            "10          Black       Deist           Straight          1964   \n",
            "15          Black         NaN           Straight          1983   \n",
            "16          Black         NaN           Straight          2005   \n",
            "35          Black  Protestant           Straight          2002   \n",
            "36          Black  Protestant           Straight          1990   \n",
            "37          Black     Atheist           Straight          1991   \n",
            "43          Black         NaN           Straight          2007   \n",
            "47          Black     Baptist           Straight          2005   \n",
            "48          Black         NaN           Straight          2010   \n",
            "50          Black         NaN           Straight          1997   \n",
            "56          Black         NaN                 Na          2012   \n",
            "59          Black     Baptist           Straight          2007   \n",
            "60          Black         NaN                 Na          2014   \n",
            "\n",
            "                   category                       movie  \n",
            "3   Best Supporting Actress          Gone with the Wind  \n",
            "10               Best Actor         Lilies of the Field  \n",
            "15    Best Supporting Actor  An Officer and a Gentleman  \n",
            "16    Best Supporting Actor         Million Dollar Baby  \n",
            "35               Best Actor                Training Day  \n",
            "36    Best Supporting Actor                       Glory  \n",
            "37  Best Supporting Actress                       Ghost  \n",
            "43               Best Actor   The Last King of Scotland  \n",
            "47               Best Actor                         Ray  \n",
            "48  Best Supporting Actress                    Precious  \n",
            "50    Best Supporting Actor               Jerry Maguire  \n",
            "56  Best Supporting Actress                    The Help  \n",
            "59  Best Supporting Actress                  Dreamgirls  \n",
            "60  Best Supporting Actress            12 Years a Slave  \n"
          ]
        }
      ]
    },
    {
      "cell_type": "code",
      "source": [
        "black_category_winners = '/content/drive/MyDrive/bq-results-20241024-230529-1729812306381/BLACK_CATEGORY_WINNERS.csv'\n"
      ],
      "metadata": {
        "id": "FJgmxiVb2a4e"
      },
      "execution_count": 11,
      "outputs": []
    },
    {
      "cell_type": "code",
      "source": [
        "# exibir na tela apenas as categorias e filmes onde race_ethnicity = Black from only_black_winners\n",
        "black_category_winners = only_black_winners[['category', 'name',  'movie']]\n",
        "print(black_category_winners)\n",
        "\n"
      ],
      "metadata": {
        "colab": {
          "base_uri": "https://localhost:8080/"
        },
        "id": "je98pJLm29fU",
        "outputId": "d0a8b74c-4f3e-46c1-bc10-6211ed90e173"
      },
      "execution_count": 15,
      "outputs": [
        {
          "output_type": "stream",
          "name": "stdout",
          "text": [
            "                   category               name                       movie\n",
            "3   Best Supporting Actress    Hattie McDaniel          Gone with the Wind\n",
            "10               Best Actor     Sidney Poitier         Lilies of the Field\n",
            "15    Best Supporting Actor   Lou Gossett, Jr.  An Officer and a Gentleman\n",
            "16    Best Supporting Actor     Morgan Freeman         Million Dollar Baby\n",
            "35               Best Actor  Denzel Washington                Training Day\n",
            "36    Best Supporting Actor  Denzel Washington                       Glory\n",
            "37  Best Supporting Actress    Whoopi Goldberg                       Ghost\n",
            "43               Best Actor    Forest Whitaker   The Last King of Scotland\n",
            "47               Best Actor         Jamie Foxx                         Ray\n",
            "48  Best Supporting Actress           Mo'Nique                    Precious\n",
            "50    Best Supporting Actor  Cuba Gooding, Jr.               Jerry Maguire\n",
            "56  Best Supporting Actress    Octavia Spencer                    The Help\n",
            "59  Best Supporting Actress    Jennifer Hudson                  Dreamgirls\n",
            "60  Best Supporting Actress     Lupita Nyong'o            12 Years a Slave\n"
          ]
        }
      ]
    },
    {
      "cell_type": "code",
      "source": [
        "# da planilha only_black_winners contar quantas vezes os ganhadores se repetem em name\n",
        "black_category_winners['name'].value_counts()\n"
      ],
      "metadata": {
        "colab": {
          "base_uri": "https://localhost:8080/",
          "height": 523
        },
        "id": "LiCMto6U3d38",
        "outputId": "b1045a77-34d8-4b7f-eba7-79c1df838c3e"
      },
      "execution_count": 18,
      "outputs": [
        {
          "output_type": "execute_result",
          "data": {
            "text/plain": [
              "name\n",
              "Denzel Washington    2\n",
              "Hattie McDaniel      1\n",
              "Sidney Poitier       1\n",
              "Lou Gossett, Jr.     1\n",
              "Morgan Freeman       1\n",
              "Whoopi Goldberg      1\n",
              "Forest Whitaker      1\n",
              "Jamie Foxx           1\n",
              "Mo'Nique             1\n",
              "Cuba Gooding, Jr.    1\n",
              "Octavia Spencer      1\n",
              "Jennifer Hudson      1\n",
              "Lupita Nyong'o       1\n",
              "Name: count, dtype: int64"
            ],
            "text/html": [
              "<div>\n",
              "<style scoped>\n",
              "    .dataframe tbody tr th:only-of-type {\n",
              "        vertical-align: middle;\n",
              "    }\n",
              "\n",
              "    .dataframe tbody tr th {\n",
              "        vertical-align: top;\n",
              "    }\n",
              "\n",
              "    .dataframe thead th {\n",
              "        text-align: right;\n",
              "    }\n",
              "</style>\n",
              "<table border=\"1\" class=\"dataframe\">\n",
              "  <thead>\n",
              "    <tr style=\"text-align: right;\">\n",
              "      <th></th>\n",
              "      <th>count</th>\n",
              "    </tr>\n",
              "    <tr>\n",
              "      <th>name</th>\n",
              "      <th></th>\n",
              "    </tr>\n",
              "  </thead>\n",
              "  <tbody>\n",
              "    <tr>\n",
              "      <th>Denzel Washington</th>\n",
              "      <td>2</td>\n",
              "    </tr>\n",
              "    <tr>\n",
              "      <th>Hattie McDaniel</th>\n",
              "      <td>1</td>\n",
              "    </tr>\n",
              "    <tr>\n",
              "      <th>Sidney Poitier</th>\n",
              "      <td>1</td>\n",
              "    </tr>\n",
              "    <tr>\n",
              "      <th>Lou Gossett, Jr.</th>\n",
              "      <td>1</td>\n",
              "    </tr>\n",
              "    <tr>\n",
              "      <th>Morgan Freeman</th>\n",
              "      <td>1</td>\n",
              "    </tr>\n",
              "    <tr>\n",
              "      <th>Whoopi Goldberg</th>\n",
              "      <td>1</td>\n",
              "    </tr>\n",
              "    <tr>\n",
              "      <th>Forest Whitaker</th>\n",
              "      <td>1</td>\n",
              "    </tr>\n",
              "    <tr>\n",
              "      <th>Jamie Foxx</th>\n",
              "      <td>1</td>\n",
              "    </tr>\n",
              "    <tr>\n",
              "      <th>Mo'Nique</th>\n",
              "      <td>1</td>\n",
              "    </tr>\n",
              "    <tr>\n",
              "      <th>Cuba Gooding, Jr.</th>\n",
              "      <td>1</td>\n",
              "    </tr>\n",
              "    <tr>\n",
              "      <th>Octavia Spencer</th>\n",
              "      <td>1</td>\n",
              "    </tr>\n",
              "    <tr>\n",
              "      <th>Jennifer Hudson</th>\n",
              "      <td>1</td>\n",
              "    </tr>\n",
              "    <tr>\n",
              "      <th>Lupita Nyong'o</th>\n",
              "      <td>1</td>\n",
              "    </tr>\n",
              "  </tbody>\n",
              "</table>\n",
              "</div><br><label><b>dtype:</b> int64</label>"
            ]
          },
          "metadata": {},
          "execution_count": 18
        }
      ]
    },
    {
      "cell_type": "code",
      "source": [
        "# calcular a média da idade dos ganhadores de Oscar negros. Primeiro calcular qual a idade de cada um dos ganhadores no ano da edição, para isso, subtrair o birth_year do year_edition para encontrar a idade\n",
        "black_winners_age = only_black_winners['year_edition'] - only_black_winners['birth_year']\n",
        "print(black_winners_age)"
      ],
      "metadata": {
        "colab": {
          "base_uri": "https://localhost:8080/"
        },
        "id": "diru0rXY4mKI",
        "outputId": "58d77461-4bd8-44c8-bc35-a7b487d4a2c3"
      },
      "execution_count": 23,
      "outputs": [
        {
          "output_type": "stream",
          "name": "stdout",
          "text": [
            "3     47\n",
            "10    37\n",
            "15    47\n",
            "16    68\n",
            "35    48\n",
            "36    36\n",
            "37    36\n",
            "43    46\n",
            "47    38\n",
            "48    43\n",
            "50    29\n",
            "56    40\n",
            "59    26\n",
            "60    31\n",
            "dtype: int64\n"
          ]
        }
      ]
    },
    {
      "cell_type": "code",
      "source": [
        "# calcular a média das idades dos ganhadores de Oscar negros\n",
        "ages_mean = black_winners_age.mean()\n",
        "print(f'A média da idade dos ganhadores de Oscar de race_ethnicity black é: {ages_mean} anos')"
      ],
      "metadata": {
        "colab": {
          "base_uri": "https://localhost:8080/"
        },
        "id": "E_VEu3oo5E_J",
        "outputId": "886d46d3-d4f3-4bdf-ff67-89904fe3f385"
      },
      "execution_count": 26,
      "outputs": [
        {
          "output_type": "stream",
          "name": "stdout",
          "text": [
            "A média da idade dos ganhadores de Oscar de race_ethnicity black é: 40.857142857142854 anos\n"
          ]
        }
      ]
    },
    {
      "cell_type": "code",
      "source": [
        "# Trazer das categorias, qual a quantidade de cada categoria entre os blck winners\n",
        "black_category_winners['category'].value_counts()"
      ],
      "metadata": {
        "colab": {
          "base_uri": "https://localhost:8080/",
          "height": 210
        },
        "id": "y1u3jf3p6Ffn",
        "outputId": "d2f8ca86-af9c-4f61-ccd9-4fab07c7678e"
      },
      "execution_count": 27,
      "outputs": [
        {
          "output_type": "execute_result",
          "data": {
            "text/plain": [
              "category\n",
              "Best Supporting Actress    6\n",
              "Best Actor                 4\n",
              "Best Supporting Actor      4\n",
              "Name: count, dtype: int64"
            ],
            "text/html": [
              "<div>\n",
              "<style scoped>\n",
              "    .dataframe tbody tr th:only-of-type {\n",
              "        vertical-align: middle;\n",
              "    }\n",
              "\n",
              "    .dataframe tbody tr th {\n",
              "        vertical-align: top;\n",
              "    }\n",
              "\n",
              "    .dataframe thead th {\n",
              "        text-align: right;\n",
              "    }\n",
              "</style>\n",
              "<table border=\"1\" class=\"dataframe\">\n",
              "  <thead>\n",
              "    <tr style=\"text-align: right;\">\n",
              "      <th></th>\n",
              "      <th>count</th>\n",
              "    </tr>\n",
              "    <tr>\n",
              "      <th>category</th>\n",
              "      <th></th>\n",
              "    </tr>\n",
              "  </thead>\n",
              "  <tbody>\n",
              "    <tr>\n",
              "      <th>Best Supporting Actress</th>\n",
              "      <td>6</td>\n",
              "    </tr>\n",
              "    <tr>\n",
              "      <th>Best Actor</th>\n",
              "      <td>4</td>\n",
              "    </tr>\n",
              "    <tr>\n",
              "      <th>Best Supporting Actor</th>\n",
              "      <td>4</td>\n",
              "    </tr>\n",
              "  </tbody>\n",
              "</table>\n",
              "</div><br><label><b>dtype:</b> int64</label>"
            ]
          },
          "metadata": {},
          "execution_count": 27
        }
      ]
    },
    {
      "cell_type": "code",
      "source": [
        "all_oscar_winners = pd.read_csv('/content/drive/MyDrive/bq-results-20241024-234240-1729813365662/winners_oscar_demographic.csv')\n",
        "#"
      ],
      "metadata": {
        "id": "hX-POLHQ6h_n"
      },
      "execution_count": 28,
      "outputs": []
    },
    {
      "cell_type": "code",
      "source": [
        "# from all_oscar_winners trazer quais são todas as categorias, sem repetição\n",
        "oscar_categories = all_oscar_winners['category'].unique()\n",
        "print(oscar_categories)"
      ],
      "metadata": {
        "colab": {
          "base_uri": "https://localhost:8080/"
        },
        "id": "aWlBVKwf6tOp",
        "outputId": "312e6120-72ff-4e8d-9198-7b466d55c282"
      },
      "execution_count": 32,
      "outputs": [
        {
          "output_type": "stream",
          "name": "stdout",
          "text": [
            "['Best Actress' 'Best Actor' 'Best Supporting Actor'\n",
            " 'Best Supporting Actress' 'Best Director']\n"
          ]
        }
      ]
    },
    {
      "cell_type": "code",
      "source": [
        "# Categorias sem black winners\n",
        "missing_categories = [category for category in oscar_categories if category not in black_category_winners['category'].unique()]\n",
        "print(missing_categories)"
      ],
      "metadata": {
        "colab": {
          "base_uri": "https://localhost:8080/"
        },
        "id": "3qA0l6S67B-W",
        "outputId": "1063f80b-a409-4fd1-874c-534bd877dc5c"
      },
      "execution_count": 34,
      "outputs": [
        {
          "output_type": "stream",
          "name": "stdout",
          "text": [
            "['Best Actress', 'Best Director']\n"
          ]
        }
      ]
    },
    {
      "cell_type": "markdown",
      "source": [
        "A diferença entre as categorias de Melhor Atriz Coadjuvante (Best Supporting Actress) e Melhor Atriz (Best Actress) no Oscar reside principalmente na importância e centralidade do papel da atriz no filme:\n",
        "\n",
        "Melhor Atriz (Best Actress):\n",
        "\n",
        "É concedido à atriz que desempenhou o papel principal em um filme.\n",
        "O personagem geralmente tem o maior tempo de tela, conduz a narrativa e é central para o enredo do filme.\n",
        "A performance é avaliada pela sua complexidade, profundidade emocional e impacto geral no filme como um todo.\n",
        "Melhor Atriz Coadjuvante (Best Supporting Actress):\n",
        "\n",
        "É concedido à atriz que desempenhou um papel secundário, mas ainda assim significativo, em um filme.\n",
        "O personagem pode ter menos tempo de tela do que o protagonista, mas ainda tem um impacto crucial na história ou no desenvolvimento de outros personagens.\n",
        "A performance é avaliada por sua capacidade de complementar e enriquecer a história principal, mesmo sem ser o foco central.\n",
        "Em resumo:\n",
        "\n",
        "Melhor Atriz: Protagonista, papel principal, maior impacto na narrativa.\n",
        "Melhor Atriz Coadjuvante: Personagem secundário, papel de apoio, impacto significativo na história ou em outros personagens.\n",
        "A distinção pode ser subjetiva em alguns casos, e a Academia tem diretrizes para ajudar a determinar a categoria apropriada para cada performance. No entanto, a principal diferença está no peso e centralidade do papel da atriz na história do filme."
      ],
      "metadata": {
        "id": "eq-Vqv4d7sdI"
      }
    },
    {
      "cell_type": "code",
      "source": [
        "# Fazer uma análise de probablidade de haver mais ganhadores negros nos próximos anos, considerando a tabela all_oscar_winners\n",
        "# 1. Calcular a proporção histórica de ganhadores negros:\n",
        "\n",
        "# Assumindo que 'all_oscar_winners' já esteja carregado como um DataFrame\n",
        "black_winners_count = len(all_oscar_winners[all_oscar_winners['race_ethnicity'] == 'Black'])\n",
        "total_winners_count = len(all_oscar_winners)\n",
        "\n",
        "historical_proportion = black_winners_count / total_winners_count\n",
        "print(f\"Proporção histórica de ganhadores negros: {historical_proportion:.4f}\")\n"
      ],
      "metadata": {
        "colab": {
          "base_uri": "https://localhost:8080/"
        },
        "id": "M9GKzvC37tHW",
        "outputId": "01fbb1a0-d916-438d-94b7-c7fcf2dbd157"
      },
      "execution_count": 35,
      "outputs": [
        {
          "output_type": "stream",
          "name": "stdout",
          "text": [
            "Proporção histórica de ganhadores negros: 0.0337\n"
          ]
        }
      ]
    },
    {
      "cell_type": "code",
      "source": [
        "# Analisar a tendência ao longo dos anos:\n",
        "# Agrupar por ano e raça/etnia e contar os vencedores\n",
        "winners_by_year_race = all_oscar_winners.groupby(['year_edition', 'race_ethnicity'])['name'].count().reset_index()\n",
        "\n",
        "# Filtrar apenas os ganhadores negros\n",
        "black_winners_by_year = winners_by_year_race[winners_by_year_race['race_ethnicity'] == 'Black']\n",
        "\n",
        "# Plotar um gráfico de linha para visualizar a tendência\n",
        "import matplotlib.pyplot as plt\n",
        "plt.plot(black_winners_by_year['year_edition'], black_winners_by_year['name'])\n",
        "plt.xlabel('Ano')\n",
        "plt.ylabel('Número de ganhadores negros')\n",
        "plt.title('Tendência de ganhadores negros ao longo dos anos')\n",
        "plt.show()"
      ],
      "metadata": {
        "colab": {
          "base_uri": "https://localhost:8080/",
          "height": 472
        },
        "id": "_O5fVraa897M",
        "outputId": "12e4277e-5069-4029-a228-2cb94ce209b8"
      },
      "execution_count": 36,
      "outputs": [
        {
          "output_type": "display_data",
          "data": {
            "text/plain": [
              "<Figure size 640x480 with 1 Axes>"
            ],
            "image/png": "[encoded data removed]"
          },
          "metadata": {}
        }
      ]
    },
    {
      "cell_type": "code",
      "source": [
        "# considerando os anos com ganhadores negros, de quanto em quanto tempo há ganhadores negros de acordo com o ano de edição?\n",
        "black_winners_years = all_oscar_winners[all_oscar_winners['race_ethnicity'] == 'Black']['year_edition'].unique()\n",
        "black_winners_years.sort()\n",
        "print(black_winners_years)"
      ],
      "metadata": {
        "colab": {
          "base_uri": "https://localhost:8080/"
        },
        "id": "qNJEZ-bj-ARC",
        "outputId": "7a134553-2ff9-4d1b-9091-08392df44ccc"
      },
      "execution_count": 37,
      "outputs": [
        {
          "output_type": "stream",
          "name": "stdout",
          "text": [
            "[1940 1964 1983 1990 1991 1997 2002 2005 2007 2010 2012 2014]\n"
          ]
        }
      ]
    },
    {
      "cell_type": "code",
      "source": [
        "# calcular a diferença dos anos\n",
        "time_diffs = []\n",
        "for i in range(1, len(black_winners_years)):\n",
        "    diff = black_winners_years[i] - black_winners_years[i-1]\n",
        "    time_diffs.append(diff)\n",
        "\n",
        "print(time_diffs)"
      ],
      "metadata": {
        "colab": {
          "base_uri": "https://localhost:8080/"
        },
        "id": "p5HoUfHs-Wvi",
        "outputId": "db2b5838-0946-4d83-a70a-fb48fc74dcb1"
      },
      "execution_count": 38,
      "outputs": [
        {
          "output_type": "stream",
          "name": "stdout",
          "text": [
            "[24, 19, 7, 1, 6, 5, 3, 2, 3, 2, 2]\n"
          ]
        }
      ]
    },
    {
      "cell_type": "code",
      "source": [
        "# esses dados da diferença dos anos mostra alguma tendência?\n",
        "# calcular a tendencia de qual próximo ano haverá ganhador negro no Oscar\n"
      ],
      "metadata": {
        "id": "h-theqZ3-cu-"
      },
      "execution_count": null,
      "outputs": []
    },
    {
      "cell_type": "code",
      "source": [
        "import numpy as np\n",
        "avg_diff = np.mean(time_diffs)\n",
        "median_diff = np.median(time_diffs)\n",
        "\n",
        "print(f\"Média de tempo entre ganhadores negros: {avg_diff:.2f} anos\")\n",
        "print(f\"Mediana de tempo entre ganhadores negros: {median_diff:.2f} anos\")"
      ],
      "metadata": {
        "colab": {
          "base_uri": "https://localhost:8080/"
        },
        "id": "xDxGduxV-trf",
        "outputId": "b126a763-e409-48eb-a298-d834b2b53a1b"
      },
      "execution_count": 39,
      "outputs": [
        {
          "output_type": "stream",
          "name": "stdout",
          "text": [
            "Média de tempo entre ganhadores negros: 6.73 anos\n",
            "Mediana de tempo entre ganhadores negros: 3.00 anos\n"
          ]
        }
      ]
    },
    {
      "cell_type": "code",
      "source": [
        "avg_diff = np.mean(time_diffs)\n",
        "median_diff = np.median(time_diffs)\n",
        "\n",
        "# Escolha a média ou mediana como base para a previsão,\n",
        "# dependendo da distribuição dos dados e da sua preferência.\n",
        "# Neste exemplo, usaremos a média:\n",
        "prediction_base = avg_diff"
      ],
      "metadata": {
        "id": "La2Guk7d-0VP"
      },
      "execution_count": 41,
      "outputs": []
    },
    {
      "cell_type": "code",
      "source": [
        "last_black_winner_year = black_winners_years[-1]\n",
        "predicted_next_year = int(last_black_winner_year + prediction_base)\n",
        "\n",
        "print(f\"Tendência: Próximo ano com ganhador negro previsto para {predicted_next_year}\")"
      ],
      "metadata": {
        "colab": {
          "base_uri": "https://localhost:8080/"
        },
        "id": "o93tMpgp-2xF",
        "outputId": "bf933396-6a93-4053-e63f-fa4268570db2"
      },
      "execution_count": 42,
      "outputs": [
        {
          "output_type": "stream",
          "name": "stdout",
          "text": [
            "Tendência: Próximo ano com ganhador negro previsto para 2020\n"
          ]
        }
      ]
    },
    {
      "cell_type": "code",
      "source": [],
      "metadata": {
        "id": "V0cMpY3ABBGj"
      },
      "execution_count": null,
      "outputs": []
    },
    {
      "cell_type": "markdown",
      "source": [
        "Conclusões da Análise: Representatividade Negra e o Oscar\n",
        "A análise dos dados sobre a representatividade negra no Oscar, de 1927 a 2014, revela um panorama complexo e desafiador, mas com nuances de progresso. As teorias de representatividade e identidade, como as de Stuart Hall e Edward Said, fornecem um quadro crucial para interpretar esses resultados.\n",
        "\n",
        "Pontos-chave:\n",
        "\n",
        "Baixa representatividade histórica: A proporção de vencedores negros em relação ao total de premiados é significativamente baixa, evidenciando uma histórica disparidade racial na premiação.\n",
        "Tendência de aumento, mas com nuances: Apesar do aumento na frequência de ganhadores negros nas últimas décadas, a progressão não é linear e apresenta períodos de estagnação ou até retrocesso.\n",
        "Importância da representatividade: A visibilidade de atores e cineastas negros no Oscar, em papéis complexos e multifacetados, impacta diretamente a construção identitária da comunidade negra, combatendo estereótipos e promovendo a auto-estima.\n",
        "O Oscar como agente de mudança: A premiação tem o potencial de influenciar a indústria cinematográfica, incentivando a produção de filmes mais diversos e inclusivos, e contribuindo para uma sociedade mais justa e igualitária.\n",
        "Caminhos para o futuro: A representatividade negra no Oscar ainda precisa avançar significativamente. É crucial que a Academia e a indústria cinematográfica se comprometam com a inclusão racial em todos os níveis, desde a produção até a premiação.\n",
        "Considerando as teorias de representatividade e identidade:\n",
        "\n",
        "Stuart Hall: A análise reforça a ideia de Hall de que a identidade é construída por meio da representação. A falta de representatividade negra no Oscar historicamente contribuiu para a marginalização e a perpetuação de estereótipos negativos sobre a comunidade negra. A crescente visibilidade de negros premiados, em papéis que desafiam esses estereótipos, é um passo crucial para a construção de identidades mais positivas e empoderadas.\n",
        "Edward Said: O conceito de \"Outro\" de Said também se aplica à análise. A histórica exclusão de negros do Oscar reflete a dinâmica de poder em que a cultura dominante (branca) define o que é considerado \"normal\" e \"aceitável\", relegando outros grupos à posição de \"Outro\", marginalizado e invisibilizado. A luta por representatividade no Oscar é, portanto, uma luta por reconhecimento e inclusão no centro da narrativa cultural.\n",
        "Conclusão:\n",
        "\n",
        "O caminho para a representatividade negra plena no Oscar ainda é longo, mas os dados indicam que progressos estão sendo feitos. A premiação, como um evento de grande influência cultural, tem a responsabilidade de promover a diversidade e a inclusão racial. Isso não apenas reconhece o talento e a contribuição da comunidade negra para o cinema, mas também contribui para a construção de uma sociedade mais justa e igualitária, onde todos se sintam representados e valorizados.\n",
        "\n",
        "É fundamental que a indústria cinematográfica e a Academia continuem a trabalhar para que o Oscar seja um reflexo autêntico da sociedade diversa em que vivemos, promovendo a representatividade negra não como uma exceção, mas como a norma."
      ],
      "metadata": {
        "id": "U-yA5sOmBBlq"
      }
    },
    {
      "cell_type": "code",
      "source": [
        "# novos dados de black winners que não estão na planilha"
      ],
      "metadata": {
        "id": "TOZCzYiDBgRV"
      },
      "execution_count": 43,
      "outputs": []
    },
    {
      "cell_type": "code",
      "source": [
        "# Melhor ator 2022 = Will Smith filme King Richard\n",
        "# Melhor atriz ainda não tem nenhuma ganhadora negra\n",
        "# Melhor ator coadjuvante: 2021, Daniel Kaluuya, movie: Judas e o Messias Negro; 2019, Mahershala Ali, movie: Green Book - O Guia; 2017, Mahershala Ali, movie: Moonlight - Sob a luz do luar\n",
        "# Melhor atriz coadjuvante: 2024, Da'Vine Joy Randolph, movie: Os Rejeitados; 2022, Ariana DeBose, movie: West Side Story; 2019, Regina King, movie: Se a Rua Beale falasse; 2017, Viola Davis, movie: Um limite entre nós;\n",
        "# Melhor diretor/realizador ainda não tem nenhum vencedor negro\n",
        "# Melhor filme de diretor negro, mas com ator principal branco, 12 Anos de Escravidão, 2014.\n",
        "#Melhor filme 2017, Moonlight: sob a luz do luar"
      ],
      "metadata": {
        "id": "uWy81-A4IxEx"
      },
      "execution_count": null,
      "outputs": []
    }
  ]
}