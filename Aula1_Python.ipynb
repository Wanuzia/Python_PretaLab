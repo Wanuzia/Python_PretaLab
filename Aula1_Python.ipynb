{
  "nbformat": 4,
  "nbformat_minor": 0,
  "metadata": {
    "colab": {
      "provenance": [],
      "authorship_tag": "ABX9TyNOyFmCF8jfz90e7vOlkC4r",
      "include_colab_link": true
    },
    "kernelspec": {
      "name": "python3",
      "display_name": "Python 3"
    },
    "language_info": {
      "name": "python"
    }
  },
  "cells": [
    {
      "cell_type": "markdown",
      "metadata": {
        "id": "view-in-github",
        "colab_type": "text"
      },
      "source": [
        "<a href=\"https://colab.research.google.com/github/Wanuzia/Python_PretaLab/blob/aula1/Aula1_Python.ipynb\" target=\"_parent\"><img src=\"https://colab.research.google.com/assets/colab-badge.svg\" alt=\"Open In Colab\"/></a>"
      ]
    },
    {
      "cell_type": "markdown",
      "source": [
        "#Teste\n"
      ],
      "metadata": {
        "id": "qSZbyhGI42GT"
      }
    },
    {
      "cell_type": "code",
      "source": [
        "!python --version\n"
      ],
      "metadata": {
        "colab": {
          "base_uri": "https://localhost:8080/"
        },
        "id": "MQ620Vkx7Y4v",
        "outputId": "cbc211f6-6c52-4072-a95d-31823a9674c2"
      },
      "execution_count": 1,
      "outputs": [
        {
          "output_type": "stream",
          "name": "stdout",
          "text": [
            "Python 3.10.12\n"
          ]
        }
      ]
    },
    {
      "cell_type": "code",
      "source": [
        "#abrindo texto para leitura\n",
        "texto = open(\"/textos/boasvindas.txt\", \"r\")"
      ],
      "metadata": {
        "id": "i3wiKCXK8FNL"
      },
      "execution_count": 10,
      "outputs": []
    },
    {
      "cell_type": "code",
      "source": [
        "#Vendo o texto\n",
        "print(texto.read())"
      ],
      "metadata": {
        "colab": {
          "base_uri": "https://localhost:8080/"
        },
        "id": "_lq9c-0__IOL",
        "outputId": "401e2d0f-d5a9-413f-c167-b499b1d51161"
      },
      "execution_count": 19,
      "outputs": [
        {
          "output_type": "stream",
          "name": "stdout",
          "text": [
            "\n"
          ]
        }
      ]
    },
    {
      "cell_type": "code",
      "source": [
        "#Contar o número de caracteres\n",
        "print(texto.tell())"
      ],
      "metadata": {
        "colab": {
          "base_uri": "https://localhost:8080/"
        },
        "id": "PXiWXJ5b_7DY",
        "outputId": "e4c350f3-b926-4ae5-925d-f78196ec496a"
      },
      "execution_count": 13,
      "outputs": [
        {
          "output_type": "stream",
          "name": "stdout",
          "text": [
            "127\n"
          ]
        }
      ]
    },
    {
      "cell_type": "code",
      "source": [
        "#Retornar para o início do arquivo\n",
        "print(texto.seek(0,0))"
      ],
      "metadata": {
        "colab": {
          "base_uri": "https://localhost:8080/"
        },
        "id": "BTlK7VxJAkZW",
        "outputId": "c945c8e8-78b9-421c-8af1-57c5252e91b2"
      },
      "execution_count": 27,
      "outputs": [
        {
          "output_type": "stream",
          "name": "stdout",
          "text": [
            "0\n"
          ]
        }
      ]
    },
    {
      "cell_type": "code",
      "source": [
        "print(texto.read())"
      ],
      "metadata": {
        "colab": {
          "base_uri": "https://localhost:8080/"
        },
        "id": "r_epU9M-B2za",
        "outputId": "ca42af0b-fd8d-4cbd-b855-de234bdbf516"
      },
      "execution_count": 24,
      "outputs": [
        {
          "output_type": "stream",
          "name": "stdout",
          "text": [
            "Fico muito feliz que você tenha iniciado esse curso, espero que vocês curtam esse aprendizado e não tenham medo de perguntar\n"
          ]
        }
      ]
    },
    {
      "cell_type": "code",
      "source": [
        "#Lendo os primeiros 10 caracteres\n",
        "print(texto.read(10))"
      ],
      "metadata": {
        "colab": {
          "base_uri": "https://localhost:8080/"
        },
        "id": "8s7h1a8QAqCi",
        "outputId": "9ec9fe11-3730-4c93-97c1-49e1a9369a5d"
      },
      "execution_count": 28,
      "outputs": [
        {
          "output_type": "stream",
          "name": "stdout",
          "text": [
            "Fico muito\n"
          ]
        }
      ]
    }
  ]
}