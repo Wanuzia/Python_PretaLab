{
  "nbformat": 4,
  "nbformat_minor": 0,
  "metadata": {
    "colab": {
      "provenance": [],
      "authorship_tag": "ABX9TyNuXEwirMD/LqVjnwmvF+zU",
      "include_colab_link": true
    },
    "kernelspec": {
      "name": "python3",
      "display_name": "Python 3"
    },
    "language_info": {
      "name": "python"
    }
  },
  "cells": [
    {
      "cell_type": "markdown",
      "metadata": {
        "id": "view-in-github",
        "colab_type": "text"
      },
      "source": [
        "<a href=\"https://colab.research.google.com/github/Wanuzia/Python_PretaLab/blob/statistics/estatistica_aula_1.ipynb\" target=\"_parent\"><img src=\"https://colab.research.google.com/assets/colab-badge.svg\" alt=\"Open In Colab\"/></a>"
      ]
    },
    {
      "cell_type": "code",
      "execution_count": 2,
      "metadata": {
        "id": "_BovU3aJSGOP"
      },
      "outputs": [],
      "source": [
        "import numpy as np"
      ]
    },
    {
      "cell_type": "code",
      "source": [
        "horas_sono = [8, 5, 8, 9, 4, 8, 0, 3, 5]"
      ],
      "metadata": {
        "id": "3Nose6BxSSLc"
      },
      "execution_count": 3,
      "outputs": []
    },
    {
      "cell_type": "code",
      "source": [
        "media = np.mean(horas_sono)\n",
        "print(f\"Media: {media}\")"
      ],
      "metadata": {
        "colab": {
          "base_uri": "https://localhost:8080/"
        },
        "id": "h-fFVBsjSh8X",
        "outputId": "51bc9e6c-6832-441e-c493-868c3158ab3f"
      },
      "execution_count": 4,
      "outputs": [
        {
          "output_type": "stream",
          "name": "stdout",
          "text": [
            "Media: 5.555555555555555\n"
          ]
        }
      ]
    },
    {
      "cell_type": "code",
      "source": [
        "mediana = np.median(horas_sono)\n",
        "print(f\"Mediana: {mediana}\")"
      ],
      "metadata": {
        "colab": {
          "base_uri": "https://localhost:8080/"
        },
        "id": "T9j3d-9DSpcM",
        "outputId": "56e31b63-7a6f-4984-fd99-a63bca80f2c0"
      },
      "execution_count": 5,
      "outputs": [
        {
          "output_type": "stream",
          "name": "stdout",
          "text": [
            "Mediana: 5.0\n"
          ]
        }
      ]
    },
    {
      "cell_type": "code",
      "source": [
        "import statistics as std"
      ],
      "metadata": {
        "id": "wDKwPtEzS-EH"
      },
      "execution_count": 7,
      "outputs": []
    },
    {
      "cell_type": "code",
      "source": [
        "moda = std.mode(horas_sono)\n",
        "print(f\"Moda: {moda}\")"
      ],
      "metadata": {
        "colab": {
          "base_uri": "https://localhost:8080/"
        },
        "id": "ZPa0WCEJSz4U",
        "outputId": "056afbef-15b4-492c-d397-faf33ec48e39"
      },
      "execution_count": 8,
      "outputs": [
        {
          "output_type": "stream",
          "name": "stdout",
          "text": [
            "Moda: 8\n"
          ]
        }
      ]
    },
    {
      "cell_type": "code",
      "source": [
        "desvio_padrao = std.stdev(horas_sono)\n",
        "print(f\"Desvio padrão: {desvio_padrao}\")"
      ],
      "metadata": {
        "colab": {
          "base_uri": "https://localhost:8080/"
        },
        "id": "VCgBVeJuTFcU",
        "outputId": "4cbf4e89-bd5f-4a88-b41b-48aafc82cb8d"
      },
      "execution_count": 9,
      "outputs": [
        {
          "output_type": "stream",
          "name": "stdout",
          "text": [
            "Desvio padrão: 2.96273147243853\n"
          ]
        }
      ]
    },
    {
      "cell_type": "code",
      "source": [
        "desvio_padra_2 = np.std(horas_sono)\n",
        "print(f\"Desvio padrão: {desvio_padra_2}\")"
      ],
      "metadata": {
        "colab": {
          "base_uri": "https://localhost:8080/"
        },
        "id": "cLkRA832TgDN",
        "outputId": "952beec7-22b3-4639-8195-0f03c3ed9ed6"
      },
      "execution_count": 10,
      "outputs": [
        {
          "output_type": "stream",
          "name": "stdout",
          "text": [
            "Desvio padrão: 2.7932900199947857\n"
          ]
        }
      ]
    },
    {
      "cell_type": "code",
      "source": [
        "variancia = np.var(horas_sono)\n",
        "print(f\"Variação: {variancia}\")"
      ],
      "metadata": {
        "colab": {
          "base_uri": "https://localhost:8080/"
        },
        "id": "yq8ggpTdXKur",
        "outputId": "f1397ad1-bb85-4a1f-be63-d1bee157cc07"
      },
      "execution_count": 11,
      "outputs": [
        {
          "output_type": "stream",
          "name": "stdout",
          "text": [
            "Variação: 7.80246913580247\n"
          ]
        }
      ]
    },
    {
      "cell_type": "code",
      "source": [
        "import matplotlib.pyplot as plt\n",
        "\n",
        "plt.hist(horas_sono, bins=5, color='yellow', edgecolor='black')\n",
        "plt.xlabel(\"Horas de sono\")\n",
        "plt.ylabel(\"Frequência\")\n",
        "plt.title(\"Distribuição de Horas de Sono\")\n",
        "plt.show()"
      ],
      "metadata": {
        "colab": {
          "base_uri": "https://localhost:8080/",
          "height": 472
        },
        "id": "R5H0Rx6AXwg5",
        "outputId": "a82e4a67-d5dc-4bad-8594-c377e1ae5802"
      },
      "execution_count": 14,
      "outputs": [
        {
          "output_type": "display_data",
          "data": {
            "text/plain": [
              "<Figure size 640x480 with 1 Axes>"
            ],
            "image/png": "[encoded data removed]"
          },
          "metadata": {}
        }
      ]
    }
  ]
}